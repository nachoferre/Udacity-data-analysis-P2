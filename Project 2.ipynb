{
 "cells": [
  {
   "cell_type": "code",
   "execution_count": 1,
   "metadata": {
    "collapsed": true
   },
   "outputs": [],
   "source": [
    "import pandas as pd\n",
    "import numpy as np\n",
    "import matplotlib.pyplot as plt\n",
    "# we will use the %pylab inline so the graph appears in the notebook\n",
    "import seaborn as sns"
   ]
  },
  {
   "cell_type": "markdown",
   "metadata": {},
   "source": [
    "Once we have imported the necessary libraries we load the dataset"
   ]
  },
  {
   "cell_type": "code",
   "execution_count": 2,
   "metadata": {
    "collapsed": false
   },
   "outputs": [],
   "source": [
    "batting = pd.read_csv(\"Batting.csv\")"
   ]
  },
  {
   "cell_type": "markdown",
   "metadata": {},
   "source": [
    "Lets take a look at the dataset"
   ]
  },
  {
   "cell_type": "code",
   "execution_count": 3,
   "metadata": {
    "collapsed": false
   },
   "outputs": [
    {
     "data": {
      "text/html": [
       "<div>\n",
       "<table border=\"1\" class=\"dataframe\">\n",
       "  <thead>\n",
       "    <tr style=\"text-align: right;\">\n",
       "      <th></th>\n",
       "      <th>playerID</th>\n",
       "      <th>yearID</th>\n",
       "      <th>stint</th>\n",
       "      <th>teamID</th>\n",
       "      <th>lgID</th>\n",
       "      <th>G</th>\n",
       "      <th>AB</th>\n",
       "      <th>R</th>\n",
       "      <th>H</th>\n",
       "      <th>2B</th>\n",
       "      <th>...</th>\n",
       "      <th>RBI</th>\n",
       "      <th>SB</th>\n",
       "      <th>CS</th>\n",
       "      <th>BB</th>\n",
       "      <th>SO</th>\n",
       "      <th>IBB</th>\n",
       "      <th>HBP</th>\n",
       "      <th>SH</th>\n",
       "      <th>SF</th>\n",
       "      <th>GIDP</th>\n",
       "    </tr>\n",
       "  </thead>\n",
       "  <tbody>\n",
       "    <tr>\n",
       "      <th>0</th>\n",
       "      <td>abercda01</td>\n",
       "      <td>1871</td>\n",
       "      <td>1</td>\n",
       "      <td>TRO</td>\n",
       "      <td>NaN</td>\n",
       "      <td>1</td>\n",
       "      <td>4.0</td>\n",
       "      <td>0.0</td>\n",
       "      <td>0.0</td>\n",
       "      <td>0.0</td>\n",
       "      <td>...</td>\n",
       "      <td>0.0</td>\n",
       "      <td>0.0</td>\n",
       "      <td>0.0</td>\n",
       "      <td>0.0</td>\n",
       "      <td>0.0</td>\n",
       "      <td>NaN</td>\n",
       "      <td>NaN</td>\n",
       "      <td>NaN</td>\n",
       "      <td>NaN</td>\n",
       "      <td>NaN</td>\n",
       "    </tr>\n",
       "    <tr>\n",
       "      <th>1</th>\n",
       "      <td>addybo01</td>\n",
       "      <td>1871</td>\n",
       "      <td>1</td>\n",
       "      <td>RC1</td>\n",
       "      <td>NaN</td>\n",
       "      <td>25</td>\n",
       "      <td>118.0</td>\n",
       "      <td>30.0</td>\n",
       "      <td>32.0</td>\n",
       "      <td>6.0</td>\n",
       "      <td>...</td>\n",
       "      <td>13.0</td>\n",
       "      <td>8.0</td>\n",
       "      <td>1.0</td>\n",
       "      <td>4.0</td>\n",
       "      <td>0.0</td>\n",
       "      <td>NaN</td>\n",
       "      <td>NaN</td>\n",
       "      <td>NaN</td>\n",
       "      <td>NaN</td>\n",
       "      <td>NaN</td>\n",
       "    </tr>\n",
       "    <tr>\n",
       "      <th>2</th>\n",
       "      <td>allisar01</td>\n",
       "      <td>1871</td>\n",
       "      <td>1</td>\n",
       "      <td>CL1</td>\n",
       "      <td>NaN</td>\n",
       "      <td>29</td>\n",
       "      <td>137.0</td>\n",
       "      <td>28.0</td>\n",
       "      <td>40.0</td>\n",
       "      <td>4.0</td>\n",
       "      <td>...</td>\n",
       "      <td>19.0</td>\n",
       "      <td>3.0</td>\n",
       "      <td>1.0</td>\n",
       "      <td>2.0</td>\n",
       "      <td>5.0</td>\n",
       "      <td>NaN</td>\n",
       "      <td>NaN</td>\n",
       "      <td>NaN</td>\n",
       "      <td>NaN</td>\n",
       "      <td>NaN</td>\n",
       "    </tr>\n",
       "    <tr>\n",
       "      <th>3</th>\n",
       "      <td>allisdo01</td>\n",
       "      <td>1871</td>\n",
       "      <td>1</td>\n",
       "      <td>WS3</td>\n",
       "      <td>NaN</td>\n",
       "      <td>27</td>\n",
       "      <td>133.0</td>\n",
       "      <td>28.0</td>\n",
       "      <td>44.0</td>\n",
       "      <td>10.0</td>\n",
       "      <td>...</td>\n",
       "      <td>27.0</td>\n",
       "      <td>1.0</td>\n",
       "      <td>1.0</td>\n",
       "      <td>0.0</td>\n",
       "      <td>2.0</td>\n",
       "      <td>NaN</td>\n",
       "      <td>NaN</td>\n",
       "      <td>NaN</td>\n",
       "      <td>NaN</td>\n",
       "      <td>NaN</td>\n",
       "    </tr>\n",
       "    <tr>\n",
       "      <th>4</th>\n",
       "      <td>ansonca01</td>\n",
       "      <td>1871</td>\n",
       "      <td>1</td>\n",
       "      <td>RC1</td>\n",
       "      <td>NaN</td>\n",
       "      <td>25</td>\n",
       "      <td>120.0</td>\n",
       "      <td>29.0</td>\n",
       "      <td>39.0</td>\n",
       "      <td>11.0</td>\n",
       "      <td>...</td>\n",
       "      <td>16.0</td>\n",
       "      <td>6.0</td>\n",
       "      <td>2.0</td>\n",
       "      <td>2.0</td>\n",
       "      <td>1.0</td>\n",
       "      <td>NaN</td>\n",
       "      <td>NaN</td>\n",
       "      <td>NaN</td>\n",
       "      <td>NaN</td>\n",
       "      <td>NaN</td>\n",
       "    </tr>\n",
       "  </tbody>\n",
       "</table>\n",
       "<p>5 rows × 22 columns</p>\n",
       "</div>"
      ],
      "text/plain": [
       "    playerID  yearID  stint teamID lgID   G     AB     R     H    2B  ...   \\\n",
       "0  abercda01    1871      1    TRO  NaN   1    4.0   0.0   0.0   0.0  ...    \n",
       "1   addybo01    1871      1    RC1  NaN  25  118.0  30.0  32.0   6.0  ...    \n",
       "2  allisar01    1871      1    CL1  NaN  29  137.0  28.0  40.0   4.0  ...    \n",
       "3  allisdo01    1871      1    WS3  NaN  27  133.0  28.0  44.0  10.0  ...    \n",
       "4  ansonca01    1871      1    RC1  NaN  25  120.0  29.0  39.0  11.0  ...    \n",
       "\n",
       "    RBI   SB   CS   BB   SO  IBB  HBP  SH  SF  GIDP  \n",
       "0   0.0  0.0  0.0  0.0  0.0  NaN  NaN NaN NaN   NaN  \n",
       "1  13.0  8.0  1.0  4.0  0.0  NaN  NaN NaN NaN   NaN  \n",
       "2  19.0  3.0  1.0  2.0  5.0  NaN  NaN NaN NaN   NaN  \n",
       "3  27.0  1.0  1.0  0.0  2.0  NaN  NaN NaN NaN   NaN  \n",
       "4  16.0  6.0  2.0  2.0  1.0  NaN  NaN NaN NaN   NaN  \n",
       "\n",
       "[5 rows x 22 columns]"
      ]
     },
     "execution_count": 3,
     "metadata": {},
     "output_type": "execute_result"
    }
   ],
   "source": [
    "batting.head()"
   ]
  },
  {
   "cell_type": "markdown",
   "metadata": {},
   "source": [
    "### 1.\n",
    "#### Filling the data\n",
    "As we can see there are some NaNs in the data set, so we decided to fill these blanks with 0 so we can make complete calculations. The fill with 0 is because we can understand that if a player has a record here he must have done something."
   ]
  },
  {
   "cell_type": "code",
   "execution_count": 4,
   "metadata": {
    "collapsed": false
   },
   "outputs": [
    {
     "data": {
      "text/plain": [
       "101332"
      ]
     },
     "execution_count": 4,
     "metadata": {},
     "output_type": "execute_result"
    }
   ],
   "source": [
    "len(batting)"
   ]
  },
  {
   "cell_type": "code",
   "execution_count": 5,
   "metadata": {
    "collapsed": true
   },
   "outputs": [],
   "source": [
    "batting_filled = batting.fillna(value=0)"
   ]
  },
  {
   "cell_type": "code",
   "execution_count": 6,
   "metadata": {
    "collapsed": false
   },
   "outputs": [
    {
     "data": {
      "text/plain": [
       "playerID     object\n",
       "yearID        int64\n",
       "stint         int64\n",
       "teamID       object\n",
       "lgID         object\n",
       "G             int64\n",
       "AB          float64\n",
       "R           float64\n",
       "H           float64\n",
       "2B          float64\n",
       "3B          float64\n",
       "HR          float64\n",
       "RBI         float64\n",
       "SB          float64\n",
       "CS          float64\n",
       "BB          float64\n",
       "SO          float64\n",
       "IBB         float64\n",
       "HBP         float64\n",
       "SH          float64\n",
       "SF          float64\n",
       "GIDP        float64\n",
       "dtype: object"
      ]
     },
     "execution_count": 6,
     "metadata": {},
     "output_type": "execute_result"
    }
   ],
   "source": [
    "# Lets check the different types of the dataset we are using\n",
    "batting_filled.dtypes"
   ]
  },
  {
   "cell_type": "markdown",
   "metadata": {},
   "source": [
    "##### What is the mean of the batting of the whole dataset and who has had the best season in history?"
   ]
  },
  {
   "cell_type": "code",
   "execution_count": 7,
   "metadata": {
    "collapsed": false
   },
   "outputs": [
    {
     "data": {
      "text/plain": [
       "142.3498598665772"
      ]
     },
     "execution_count": 7,
     "metadata": {},
     "output_type": "execute_result"
    }
   ],
   "source": [
    "# trying out some basic funtionc of Pandas Data Frame\n",
    "batting_filled['AB'].mean()"
   ]
  },
  {
   "cell_type": "code",
   "execution_count": 8,
   "metadata": {
    "collapsed": false
   },
   "outputs": [
    {
     "data": {
      "text/plain": [
       "716.0"
      ]
     },
     "execution_count": 8,
     "metadata": {},
     "output_type": "execute_result"
    }
   ],
   "source": [
    "batting_filled['AB'].max()"
   ]
  },
  {
   "cell_type": "code",
   "execution_count": 9,
   "metadata": {
    "collapsed": false
   },
   "outputs": [
    {
     "data": {
      "text/plain": [
       "playerID    rolliji01\n",
       "yearID           2007\n",
       "stint               1\n",
       "teamID            PHI\n",
       "lgID               NL\n",
       "G                 162\n",
       "AB                716\n",
       "R                 139\n",
       "H                 212\n",
       "2B                 38\n",
       "3B                 20\n",
       "HR                 30\n",
       "RBI                94\n",
       "SB                 41\n",
       "CS                  6\n",
       "BB                 49\n",
       "SO                 85\n",
       "IBB                 5\n",
       "HBP                 7\n",
       "SH                  0\n",
       "SF                  6\n",
       "GIDP               11\n",
       "Name: 89776, dtype: object"
      ]
     },
     "execution_count": 9,
     "metadata": {},
     "output_type": "execute_result"
    }
   ],
   "source": [
    "batting_filled.iloc[batting_filled['AB'].argmax()]"
   ]
  },
  {
   "cell_type": "markdown",
   "metadata": {},
   "source": [
    "The calculations here have been done as if every entry was a different player. However, as we saw during the investigation of the data, there are several entries for the same player depending on the year player and sometimes changing the team too. In the next entries we will investigate different ways of treating the data, given that this way doesnt show the players development through the years"
   ]
  },
  {
   "cell_type": "markdown",
   "metadata": {},
   "source": [
    "##### Who has the best batting score in history?\n",
    "##### what is the mean batting for a player?"
   ]
  },
  {
   "cell_type": "code",
   "execution_count": 10,
   "metadata": {
    "collapsed": false
   },
   "outputs": [],
   "source": [
    "# Lets goup our data so every entry is a player\n",
    "batting_group_player = batting_filled.groupby(['playerID'])"
   ]
  },
  {
   "cell_type": "code",
   "execution_count": 11,
   "metadata": {
    "collapsed": false
   },
   "outputs": [
    {
     "data": {
      "text/plain": [
       "18659"
      ]
     },
     "execution_count": 11,
     "metadata": {},
     "output_type": "execute_result"
    }
   ],
   "source": [
    "len(batting_group_player)"
   ]
  },
  {
   "cell_type": "code",
   "execution_count": 12,
   "metadata": {
    "collapsed": false
   },
   "outputs": [],
   "source": [
    "player_means = batting_group_player['AB'].mean()"
   ]
  },
  {
   "cell_type": "code",
   "execution_count": 13,
   "metadata": {
    "collapsed": false
   },
   "outputs": [
    {
     "data": {
      "text/plain": [
       "84.50710972280667"
      ]
     },
     "execution_count": 13,
     "metadata": {},
     "output_type": "execute_result"
    }
   ],
   "source": [
    "player_means.mean()"
   ]
  },
  {
   "cell_type": "markdown",
   "metadata": {},
   "source": [
    "#### Conlusion \n",
    "Here we see the great difference between the mean batting for a player in their carreer and the mean of a players in a year. It was safe to assume that a player can have a great year but having a whole carrieer as great as that specific year "
   ]
  },
  {
   "cell_type": "code",
   "execution_count": 14,
   "metadata": {
    "collapsed": false
   },
   "outputs": [],
   "source": [
    "maximum_batter = player_means.argmax()"
   ]
  },
  {
   "cell_type": "code",
   "execution_count": 139,
   "metadata": {
    "collapsed": false
   },
   "outputs": [
    {
     "data": {
      "text/html": [
       "<div>\n",
       "<table border=\"1\" class=\"dataframe\">\n",
       "  <thead>\n",
       "    <tr style=\"text-align: right;\">\n",
       "      <th></th>\n",
       "      <th>playerID</th>\n",
       "      <th>yearID</th>\n",
       "      <th>stint</th>\n",
       "      <th>teamID</th>\n",
       "      <th>lgID</th>\n",
       "      <th>G</th>\n",
       "      <th>AB</th>\n",
       "      <th>R</th>\n",
       "      <th>H</th>\n",
       "      <th>2B</th>\n",
       "      <th>...</th>\n",
       "      <th>SB</th>\n",
       "      <th>CS</th>\n",
       "      <th>BB</th>\n",
       "      <th>SO</th>\n",
       "      <th>IBB</th>\n",
       "      <th>HBP</th>\n",
       "      <th>SH</th>\n",
       "      <th>SF</th>\n",
       "      <th>GIDP</th>\n",
       "      <th>ability</th>\n",
       "    </tr>\n",
       "  </thead>\n",
       "  <tbody>\n",
       "    <tr>\n",
       "      <th>61930</th>\n",
       "      <td>puckeki01</td>\n",
       "      <td>1984</td>\n",
       "      <td>1</td>\n",
       "      <td>MIN</td>\n",
       "      <td>AL</td>\n",
       "      <td>128</td>\n",
       "      <td>557.0</td>\n",
       "      <td>63.0</td>\n",
       "      <td>165.0</td>\n",
       "      <td>12.0</td>\n",
       "      <td>...</td>\n",
       "      <td>14.0</td>\n",
       "      <td>7.0</td>\n",
       "      <td>16.0</td>\n",
       "      <td>69.0</td>\n",
       "      <td>1.0</td>\n",
       "      <td>4.0</td>\n",
       "      <td>4.0</td>\n",
       "      <td>2.0</td>\n",
       "      <td>11.0</td>\n",
       "      <td>204.0</td>\n",
       "    </tr>\n",
       "    <tr>\n",
       "      <th>62938</th>\n",
       "      <td>puckeki01</td>\n",
       "      <td>1985</td>\n",
       "      <td>1</td>\n",
       "      <td>MIN</td>\n",
       "      <td>AL</td>\n",
       "      <td>161</td>\n",
       "      <td>691.0</td>\n",
       "      <td>80.0</td>\n",
       "      <td>199.0</td>\n",
       "      <td>29.0</td>\n",
       "      <td>...</td>\n",
       "      <td>21.0</td>\n",
       "      <td>12.0</td>\n",
       "      <td>41.0</td>\n",
       "      <td>87.0</td>\n",
       "      <td>0.0</td>\n",
       "      <td>4.0</td>\n",
       "      <td>5.0</td>\n",
       "      <td>3.0</td>\n",
       "      <td>9.0</td>\n",
       "      <td>312.0</td>\n",
       "    </tr>\n",
       "    <tr>\n",
       "      <th>63958</th>\n",
       "      <td>puckeki01</td>\n",
       "      <td>1986</td>\n",
       "      <td>1</td>\n",
       "      <td>MIN</td>\n",
       "      <td>AL</td>\n",
       "      <td>161</td>\n",
       "      <td>680.0</td>\n",
       "      <td>119.0</td>\n",
       "      <td>223.0</td>\n",
       "      <td>37.0</td>\n",
       "      <td>...</td>\n",
       "      <td>20.0</td>\n",
       "      <td>12.0</td>\n",
       "      <td>34.0</td>\n",
       "      <td>99.0</td>\n",
       "      <td>4.0</td>\n",
       "      <td>7.0</td>\n",
       "      <td>2.0</td>\n",
       "      <td>0.0</td>\n",
       "      <td>14.0</td>\n",
       "      <td>439.0</td>\n",
       "    </tr>\n",
       "    <tr>\n",
       "      <th>65013</th>\n",
       "      <td>puckeki01</td>\n",
       "      <td>1987</td>\n",
       "      <td>1</td>\n",
       "      <td>MIN</td>\n",
       "      <td>AL</td>\n",
       "      <td>157</td>\n",
       "      <td>624.0</td>\n",
       "      <td>96.0</td>\n",
       "      <td>207.0</td>\n",
       "      <td>32.0</td>\n",
       "      <td>...</td>\n",
       "      <td>12.0</td>\n",
       "      <td>7.0</td>\n",
       "      <td>32.0</td>\n",
       "      <td>91.0</td>\n",
       "      <td>7.0</td>\n",
       "      <td>6.0</td>\n",
       "      <td>0.0</td>\n",
       "      <td>6.0</td>\n",
       "      <td>16.0</td>\n",
       "      <td>398.0</td>\n",
       "    </tr>\n",
       "    <tr>\n",
       "      <th>66042</th>\n",
       "      <td>puckeki01</td>\n",
       "      <td>1988</td>\n",
       "      <td>1</td>\n",
       "      <td>MIN</td>\n",
       "      <td>AL</td>\n",
       "      <td>158</td>\n",
       "      <td>657.0</td>\n",
       "      <td>109.0</td>\n",
       "      <td>234.0</td>\n",
       "      <td>42.0</td>\n",
       "      <td>...</td>\n",
       "      <td>6.0</td>\n",
       "      <td>7.0</td>\n",
       "      <td>23.0</td>\n",
       "      <td>83.0</td>\n",
       "      <td>4.0</td>\n",
       "      <td>2.0</td>\n",
       "      <td>0.0</td>\n",
       "      <td>9.0</td>\n",
       "      <td>17.0</td>\n",
       "      <td>429.0</td>\n",
       "    </tr>\n",
       "    <tr>\n",
       "      <th>67100</th>\n",
       "      <td>puckeki01</td>\n",
       "      <td>1989</td>\n",
       "      <td>1</td>\n",
       "      <td>MIN</td>\n",
       "      <td>AL</td>\n",
       "      <td>159</td>\n",
       "      <td>635.0</td>\n",
       "      <td>75.0</td>\n",
       "      <td>215.0</td>\n",
       "      <td>45.0</td>\n",
       "      <td>...</td>\n",
       "      <td>11.0</td>\n",
       "      <td>4.0</td>\n",
       "      <td>41.0</td>\n",
       "      <td>59.0</td>\n",
       "      <td>9.0</td>\n",
       "      <td>3.0</td>\n",
       "      <td>0.0</td>\n",
       "      <td>5.0</td>\n",
       "      <td>21.0</td>\n",
       "      <td>353.0</td>\n",
       "    </tr>\n",
       "    <tr>\n",
       "      <th>68223</th>\n",
       "      <td>puckeki01</td>\n",
       "      <td>1990</td>\n",
       "      <td>1</td>\n",
       "      <td>MIN</td>\n",
       "      <td>AL</td>\n",
       "      <td>146</td>\n",
       "      <td>551.0</td>\n",
       "      <td>82.0</td>\n",
       "      <td>164.0</td>\n",
       "      <td>40.0</td>\n",
       "      <td>...</td>\n",
       "      <td>5.0</td>\n",
       "      <td>4.0</td>\n",
       "      <td>57.0</td>\n",
       "      <td>73.0</td>\n",
       "      <td>11.0</td>\n",
       "      <td>3.0</td>\n",
       "      <td>1.0</td>\n",
       "      <td>3.0</td>\n",
       "      <td>15.0</td>\n",
       "      <td>301.0</td>\n",
       "    </tr>\n",
       "    <tr>\n",
       "      <th>69317</th>\n",
       "      <td>puckeki01</td>\n",
       "      <td>1991</td>\n",
       "      <td>1</td>\n",
       "      <td>MIN</td>\n",
       "      <td>AL</td>\n",
       "      <td>152</td>\n",
       "      <td>611.0</td>\n",
       "      <td>92.0</td>\n",
       "      <td>195.0</td>\n",
       "      <td>29.0</td>\n",
       "      <td>...</td>\n",
       "      <td>11.0</td>\n",
       "      <td>5.0</td>\n",
       "      <td>31.0</td>\n",
       "      <td>78.0</td>\n",
       "      <td>4.0</td>\n",
       "      <td>4.0</td>\n",
       "      <td>8.0</td>\n",
       "      <td>7.0</td>\n",
       "      <td>27.0</td>\n",
       "      <td>331.0</td>\n",
       "    </tr>\n",
       "    <tr>\n",
       "      <th>70377</th>\n",
       "      <td>puckeki01</td>\n",
       "      <td>1992</td>\n",
       "      <td>1</td>\n",
       "      <td>MIN</td>\n",
       "      <td>AL</td>\n",
       "      <td>160</td>\n",
       "      <td>639.0</td>\n",
       "      <td>104.0</td>\n",
       "      <td>210.0</td>\n",
       "      <td>38.0</td>\n",
       "      <td>...</td>\n",
       "      <td>17.0</td>\n",
       "      <td>7.0</td>\n",
       "      <td>44.0</td>\n",
       "      <td>97.0</td>\n",
       "      <td>13.0</td>\n",
       "      <td>6.0</td>\n",
       "      <td>1.0</td>\n",
       "      <td>6.0</td>\n",
       "      <td>17.0</td>\n",
       "      <td>374.0</td>\n",
       "    </tr>\n",
       "    <tr>\n",
       "      <th>71540</th>\n",
       "      <td>puckeki01</td>\n",
       "      <td>1993</td>\n",
       "      <td>1</td>\n",
       "      <td>MIN</td>\n",
       "      <td>AL</td>\n",
       "      <td>156</td>\n",
       "      <td>622.0</td>\n",
       "      <td>89.0</td>\n",
       "      <td>184.0</td>\n",
       "      <td>39.0</td>\n",
       "      <td>...</td>\n",
       "      <td>8.0</td>\n",
       "      <td>6.0</td>\n",
       "      <td>47.0</td>\n",
       "      <td>93.0</td>\n",
       "      <td>7.0</td>\n",
       "      <td>7.0</td>\n",
       "      <td>1.0</td>\n",
       "      <td>5.0</td>\n",
       "      <td>15.0</td>\n",
       "      <td>359.0</td>\n",
       "    </tr>\n",
       "    <tr>\n",
       "      <th>72605</th>\n",
       "      <td>puckeki01</td>\n",
       "      <td>1994</td>\n",
       "      <td>1</td>\n",
       "      <td>MIN</td>\n",
       "      <td>AL</td>\n",
       "      <td>108</td>\n",
       "      <td>439.0</td>\n",
       "      <td>79.0</td>\n",
       "      <td>139.0</td>\n",
       "      <td>32.0</td>\n",
       "      <td>...</td>\n",
       "      <td>6.0</td>\n",
       "      <td>3.0</td>\n",
       "      <td>28.0</td>\n",
       "      <td>47.0</td>\n",
       "      <td>7.0</td>\n",
       "      <td>7.0</td>\n",
       "      <td>1.0</td>\n",
       "      <td>7.0</td>\n",
       "      <td>11.0</td>\n",
       "      <td>292.0</td>\n",
       "    </tr>\n",
       "    <tr>\n",
       "      <th>73797</th>\n",
       "      <td>puckeki01</td>\n",
       "      <td>1995</td>\n",
       "      <td>1</td>\n",
       "      <td>MIN</td>\n",
       "      <td>AL</td>\n",
       "      <td>137</td>\n",
       "      <td>538.0</td>\n",
       "      <td>83.0</td>\n",
       "      <td>169.0</td>\n",
       "      <td>39.0</td>\n",
       "      <td>...</td>\n",
       "      <td>3.0</td>\n",
       "      <td>2.0</td>\n",
       "      <td>56.0</td>\n",
       "      <td>89.0</td>\n",
       "      <td>18.0</td>\n",
       "      <td>3.0</td>\n",
       "      <td>0.0</td>\n",
       "      <td>5.0</td>\n",
       "      <td>15.0</td>\n",
       "      <td>339.0</td>\n",
       "    </tr>\n",
       "  </tbody>\n",
       "</table>\n",
       "<p>12 rows × 23 columns</p>\n",
       "</div>"
      ],
      "text/plain": [
       "        playerID  yearID  stint teamID lgID    G     AB      R      H    2B  \\\n",
       "61930  puckeki01    1984      1    MIN   AL  128  557.0   63.0  165.0  12.0   \n",
       "62938  puckeki01    1985      1    MIN   AL  161  691.0   80.0  199.0  29.0   \n",
       "63958  puckeki01    1986      1    MIN   AL  161  680.0  119.0  223.0  37.0   \n",
       "65013  puckeki01    1987      1    MIN   AL  157  624.0   96.0  207.0  32.0   \n",
       "66042  puckeki01    1988      1    MIN   AL  158  657.0  109.0  234.0  42.0   \n",
       "67100  puckeki01    1989      1    MIN   AL  159  635.0   75.0  215.0  45.0   \n",
       "68223  puckeki01    1990      1    MIN   AL  146  551.0   82.0  164.0  40.0   \n",
       "69317  puckeki01    1991      1    MIN   AL  152  611.0   92.0  195.0  29.0   \n",
       "70377  puckeki01    1992      1    MIN   AL  160  639.0  104.0  210.0  38.0   \n",
       "71540  puckeki01    1993      1    MIN   AL  156  622.0   89.0  184.0  39.0   \n",
       "72605  puckeki01    1994      1    MIN   AL  108  439.0   79.0  139.0  32.0   \n",
       "73797  puckeki01    1995      1    MIN   AL  137  538.0   83.0  169.0  39.0   \n",
       "\n",
       "        ...       SB    CS    BB    SO   IBB  HBP   SH   SF  GIDP  ability  \n",
       "61930   ...     14.0   7.0  16.0  69.0   1.0  4.0  4.0  2.0  11.0    204.0  \n",
       "62938   ...     21.0  12.0  41.0  87.0   0.0  4.0  5.0  3.0   9.0    312.0  \n",
       "63958   ...     20.0  12.0  34.0  99.0   4.0  7.0  2.0  0.0  14.0    439.0  \n",
       "65013   ...     12.0   7.0  32.0  91.0   7.0  6.0  0.0  6.0  16.0    398.0  \n",
       "66042   ...      6.0   7.0  23.0  83.0   4.0  2.0  0.0  9.0  17.0    429.0  \n",
       "67100   ...     11.0   4.0  41.0  59.0   9.0  3.0  0.0  5.0  21.0    353.0  \n",
       "68223   ...      5.0   4.0  57.0  73.0  11.0  3.0  1.0  3.0  15.0    301.0  \n",
       "69317   ...     11.0   5.0  31.0  78.0   4.0  4.0  8.0  7.0  27.0    331.0  \n",
       "70377   ...     17.0   7.0  44.0  97.0  13.0  6.0  1.0  6.0  17.0    374.0  \n",
       "71540   ...      8.0   6.0  47.0  93.0   7.0  7.0  1.0  5.0  15.0    359.0  \n",
       "72605   ...      6.0   3.0  28.0  47.0   7.0  7.0  1.0  7.0  11.0    292.0  \n",
       "73797   ...      3.0   2.0  56.0  89.0  18.0  3.0  0.0  5.0  15.0    339.0  \n",
       "\n",
       "[12 rows x 23 columns]"
      ]
     },
     "execution_count": 139,
     "metadata": {},
     "output_type": "execute_result"
    }
   ],
   "source": [
    "# Showing the carreer of the player\n",
    "batting_filled.loc[batting_filled['playerID'] == maximum_batter]"
   ]
  },
  {
   "cell_type": "markdown",
   "metadata": {},
   "source": [
    "As we can see the player with the best batting scores in history is puckeki01 wich thanks to some research we found out that it referred to Kirby Puckett."
   ]
  },
  {
   "cell_type": "markdown",
   "metadata": {},
   "source": [
    "#### Conclusions\n",
    "As we can se with this dataset we have been able to see different aspects of the batting but we have to realize that having the best batting score doesnt mean that you are the best baseball player. Given the fact those battings that end up in no bases or points acomplished are also taken into account like when the ball doenst land in fair territory.\n",
    "So in the next cells we will be ansering multiple questions now based on the bases and homeruns achieved."
   ]
  },
  {
   "cell_type": "markdown",
   "metadata": {},
   "source": [
    "### 2. \n",
    "In our data we have three columns that gives us insight about the players ability to bat. The first one is H which counts all the hits that ended up in winning one base. The second is the 2B column wich specfies the number of times the player has achieved a 2 base hit, the same goes for the 3B for 3 base hit. Finally we have the HR variable wich has all the homeruns achieved by the player"
   ]
  },
  {
   "cell_type": "markdown",
   "metadata": {},
   "source": [
    "In order to stablish a ranking system to see who is the best player, we have decided to give different weights to each of the previous variables. the rule we are going to apply is the following: \n",
    "hx1 + 2bx2 + 3bx3 + hrx4\n",
    "I think this should give us a really good insight about the performace of the players throught the years"
   ]
  },
  {
   "cell_type": "code",
   "execution_count": 16,
   "metadata": {
    "collapsed": false
   },
   "outputs": [],
   "source": [
    "# calculate the formula stated before\n",
    "batting_ability = batting_filled['H'] + batting_filled['2B']*2 + batting_filled['3B']*3 + batting_filled['HR']*4\n",
    "#Lets add a new column to our dataframe\n",
    "batting_filled['ability'] = pd.Series(batting_ability, index=batting_filled)"
   ]
  },
  {
   "cell_type": "code",
   "execution_count": 17,
   "metadata": {
    "collapsed": false
   },
   "outputs": [],
   "source": [
    "# Now fill it with the calculated data\n",
    "batting_filled['ability'] = batting_ability"
   ]
  },
  {
   "cell_type": "code",
   "execution_count": 140,
   "metadata": {
    "collapsed": false,
    "scrolled": true
   },
   "outputs": [
    {
     "name": "stdout",
     "output_type": "stream",
     "text": [
      "the best player is pujolal01with and score of 408.0, he played from 2001 to 2015\n",
      "Probably he is still playing\n"
     ]
    }
   ],
   "source": [
    "# group by each player\n",
    "batting_player = batting_filled.groupby(['playerID'])\n",
    "# now we calculate the means of every player\n",
    "batting_player_means = batting_player['ability'].mean()\n",
    "# now we get the years played by the player with the best mean\n",
    "years = list(batting_player['yearID'].get_group(batting_player_means.argmax()))\n",
    "#now we get the start and end of his carreer\n",
    "start = years[0]\n",
    "end = years[len(years)-1]\n",
    "print \"the best player is \" + batting_player_means.argmax() + \"with and score of \" + str(batting_player_means.max()) + \", he played from \" + str(start) + \" to \" +  str(end)\n",
    "if end == 2015:\n",
    "    print \"Probably he is still playing\""
   ]
  },
  {
   "cell_type": "code",
   "execution_count": 19,
   "metadata": {
    "collapsed": false
   },
   "outputs": [
    {
     "data": {
      "text/plain": [
       "36.07847294868628"
      ]
     },
     "execution_count": 19,
     "metadata": {},
     "output_type": "execute_result"
    }
   ],
   "source": [
    "# Now we see the mean of all of the players\n",
    "batting_player_means.mean()"
   ]
  },
  {
   "cell_type": "code",
   "execution_count": 142,
   "metadata": {
    "collapsed": false
   },
   "outputs": [
    {
     "name": "stdout",
     "output_type": "stream",
     "text": [
      "Populating the interactive namespace from numpy and matplotlib\n"
     ]
    },
    {
     "data": {
      "text/plain": [
       "<matplotlib.text.Text at 0x7fe5add11c50>"
      ]
     },
     "execution_count": 142,
     "metadata": {},
     "output_type": "execute_result"
    },
    {
     "data": {
      "image/png": "[encoded data removed]",
      "text/plain": [
       "<matplotlib.figure.Figure at 0x7fe5af918bd0>"
      ]
     },
     "metadata": {},
     "output_type": "display_data"
    }
   ],
   "source": [
    "%pylab inline\n",
    "batting_player_means.hist()\n",
    "plt.xlabel('Score of the player')\n",
    "plt.ylabel('Number of players')\n",
    "plt.title('Histogram of the number of players with each score')\n",
    "#TODO add the title and axes of the graphs"
   ]
  },
  {
   "cell_type": "code",
   "execution_count": 21,
   "metadata": {
    "collapsed": false
   },
   "outputs": [
    {
     "data": {
      "text/plain": [
       "18659"
      ]
     },
     "execution_count": 21,
     "metadata": {},
     "output_type": "execute_result"
    }
   ],
   "source": [
    "# we check if the graph has sense given the number of players\n",
    "len(batting_player_means)"
   ]
  },
  {
   "cell_type": "markdown",
   "metadata": {},
   "source": [
    "#### Conlusion\n",
    "Thanks to this histogram we can see the great difference between the mean and the maximum. As we expected if we give some thought to the game there are a lot of \"normal level\" players and there are some exceptional ones, as the histogram shows us.The graph is decresing with a drastical drop at the start and then a steady drop"
   ]
  },
  {
   "cell_type": "markdown",
   "metadata": {},
   "source": [
    "### 3. \n",
    "This time instead of repeating all the previous calculations we are going to be focusing on the preformance of the player or team. We also want to make some comparations between the performace of the teams along the years in order to discover if those teams now considered \"the best\" have always been or if it changes during time."
   ]
  },
  {
   "cell_type": "markdown",
   "metadata": {},
   "source": [
    "From now on we are going to focus solely in the National Leage of baseball given that those are the teams from which I wish to learn and understand"
   ]
  },
  {
   "cell_type": "code",
   "execution_count": 143,
   "metadata": {
    "collapsed": false
   },
   "outputs": [],
   "source": [
    "# From the whole data we separate just the players from the National League\n",
    "batting_NL = batting_filled.loc[lambda batting_filled: batting_filled.lgID == 'NL', :]\n",
    "# Once we have the players from the National League we group it by teams\n",
    "batting_team = batting_NL.groupby(['teamID'])"
   ]
  },
  {
   "cell_type": "code",
   "execution_count": 32,
   "metadata": {
    "collapsed": false
   },
   "outputs": [
    {
     "name": "stdout",
     "output_type": "stream",
     "text": [
      "Number of teams: 44\n",
      "Average ability of the teams: 64.2244113358\n",
      "Best team in history: BLN With a value of: 95.2864583333\n"
     ]
    }
   ],
   "source": [
    "# Now we check the mean of our ability data\n",
    "batting_team_mean = batting_team['ability'].mean()\n",
    "print \"Number of teams: \" + str(len(batting_team_mean))\n",
    "print \"Average ability of the teams: \" + str(batting_team_mean.mean())\n",
    "print \"Best team in history: \" + batting_team_mean.argmax() + \" With a value of: \" + str(batting_team_mean.max())"
   ]
  },
  {
   "cell_type": "code",
   "execution_count": 33,
   "metadata": {
    "collapsed": false
   },
   "outputs": [
    {
     "data": {
      "text/plain": [
       "yearID\n",
       "1892     57.162162\n",
       "1893     79.000000\n",
       "1894    138.550000\n",
       "1895    118.350000\n",
       "1896    107.000000\n",
       "1897    117.200000\n",
       "1898     90.458333\n",
       "1899     91.583333\n",
       "Name: ability, dtype: float64"
      ]
     },
     "execution_count": 33,
     "metadata": {},
     "output_type": "execute_result"
    }
   ],
   "source": [
    "#lets try now to see the the progression of this team throught his years \n",
    "batting_team_BLN = batting_team.get_group(batting_team_mean.argmax())\n",
    "batting_team_BLN_year = batting_team_BLN.groupby(['yearID'])\n",
    "batting_team_BLN_year_mean = batting_team_BLN_year['ability'].mean()\n",
    "batting_team_BLN_year_mean"
   ]
  },
  {
   "cell_type": "code",
   "execution_count": 34,
   "metadata": {
    "collapsed": false
   },
   "outputs": [
    {
     "name": "stdout",
     "output_type": "stream",
     "text": [
      "Populating the interactive namespace from numpy and matplotlib\n"
     ]
    },
    {
     "data": {
      "text/plain": [
       "([<matplotlib.axis.XTick at 0x7fe5b0231250>,\n",
       "  <matplotlib.axis.XTick at 0x7fe5b026b310>,\n",
       "  <matplotlib.axis.XTick at 0x7fe5b01fb3d0>,\n",
       "  <matplotlib.axis.XTick at 0x7fe5b01bb3d0>,\n",
       "  <matplotlib.axis.XTick at 0x7fe5b01bbb50>,\n",
       "  <matplotlib.axis.XTick at 0x7fe5b01c6310>,\n",
       "  <matplotlib.axis.XTick at 0x7fe5b01c6a90>,\n",
       "  <matplotlib.axis.XTick at 0x7fe5b014f250>],\n",
       " <a list of 8 Text xticklabel objects>)"
      ]
     },
     "execution_count": 34,
     "metadata": {},
     "output_type": "execute_result"
    },
    {
     "data": {
      "image/png": "[encoded data removed]",
      "text/plain": [
       "<matplotlib.figure.Figure at 0x7fe5b130c2d0>"
      ]
     },
     "metadata": {},
     "output_type": "display_data"
    }
   ],
   "source": [
    "# Now we need to show this information in a graph\n",
    "%pylab inline\n",
    "index = np.arange(len(batting_team_BLN_year_mean))\n",
    "bar_width = 0.5\n",
    "index_graph = (1, 2, 3, 4, 5, 6, 7, 8)\n",
    "opacity = 0.4\n",
    "error_config = {'ecolor': '0.3'}\n",
    "plt.bar(index, batting_team_BLN_year_mean, bar_width,\n",
    "                 alpha=opacity,\n",
    "                 color='b',\n",
    "                 yerr=index_graph,\n",
    "                 error_kw=error_config,\n",
    "                 label='year')\n",
    "plt.xlabel('Years')\n",
    "plt.ylabel('Ability Mean')\n",
    "plt.title('Baltimore Orioles progress throgh their carreer')\n",
    "plt.xticks(index + bar_width, batting_team_BLN_year_mean.index)"
   ]
  },
  {
   "cell_type": "markdown",
   "metadata": {},
   "source": [
    "Once we were able to determine which team has had the best performace I find curious to konw that this team was disasembled 27 years ago, so it raised the question of\n",
    "#### What team has been in the national leage for the longest time?"
   ]
  },
  {
   "cell_type": "code",
   "execution_count": 144,
   "metadata": {
    "collapsed": false
   },
   "outputs": [],
   "source": [
    "maxim = -1\n",
    "max_team = 0\n",
    "# Frist we get only the columns of the teams and years\n",
    "aux_batting_team = batting_NL[['teamID', 'yearID']]\n",
    "# We remove the duplicates\n",
    "aux_batting_team = aux_batting_team.drop_duplicates()\n",
    "#Once the data is clean we group it by team\n",
    "aux_batting_team = aux_batting_team.groupby(['teamID'])\n",
    "# Now we apply the len function in order to get the lengths of every array of the years created thanks to the group by\n",
    "# So we will obtain a series with the name of the team and the number of years played \n",
    "years_played = aux_batting_team.apply(len)\n",
    "maxim = years_played.max()\n",
    "max_team = years_played.argmax()"
   ]
  },
  {
   "cell_type": "code",
   "execution_count": 37,
   "metadata": {
    "collapsed": false
   },
   "outputs": [
    {
     "name": "stdout",
     "output_type": "stream",
     "text": [
      "The CHN team has been in the league for 140 years\n",
      "They started in 1876\n",
      "and probably they will be for even more years\n"
     ]
    }
   ],
   "source": [
    "print \"The \" + max_team + \" team has been in the league for \" + str(maxim) + \" years\"\n",
    "years = list(batting_team['yearID'].get_group(max_team))\n",
    "print \"They started in \" + str(years[0])\n",
    "if years[len(years)-1] == 2015:\n",
    "    print \"and probably they will be for even more years\""
   ]
  },
  {
   "cell_type": "code",
   "execution_count": 135,
   "metadata": {
    "collapsed": false
   },
   "outputs": [],
   "source": [
    "# Now we want to see the progress of the team during its years in the National League\n",
    "\n",
    "batting_team_CHN = batting_team.get_group('CHN')\n",
    "batting_team_CHN_year = batting_team_CHN.groupby(['yearID'])\n",
    "batting_team_CHN_year_mean = batting_team_CHN_year['ability'].mean()\n",
    "# Given that the team has been for 140 years the histogram would be to hard to read so we are going to group the data in 10 year bins\n",
    "batting_team_CHN_ten_year = []\n",
    "i_control = 0\n",
    "mean_control = 0\n",
    "# first we calculate the mean in bins of 10\n",
    "for elem in batting_team_CHN_year_mean:\n",
    "    mean_control += elem\n",
    "    i_control += 1\n",
    "    if i_control == 9:\n",
    "        i_control = 0\n",
    "        batting_team_CHN_ten_year.append(mean_control/10)\n",
    "        mean_control = 0\n",
    "# We create the index list we will use for our data\n",
    "index_CHN = []\n",
    "a, b = pd.cut(index_list, 14, retbins=True, precision = 0)\n",
    "index_CHN = b.round()"
   ]
  },
  {
   "cell_type": "markdown",
   "metadata": {},
   "source": [
    "Due to the fact that the team has been in the league for 140, a graph showing all that performace could prove difficult to read, so in order to simplyfy we have group the data in ten-year intervals for a simplify bar graph"
   ]
  },
  {
   "cell_type": "code",
   "execution_count": 136,
   "metadata": {
    "collapsed": false
   },
   "outputs": [
    {
     "name": "stdout",
     "output_type": "stream",
     "text": [
      "Populating the interactive namespace from numpy and matplotlib\n",
      "Current size: [6.0, 4.0]\n"
     ]
    },
    {
     "data": {
      "text/plain": [
       "([<matplotlib.axis.XTick at 0x7fe5afb61290>,\n",
       "  <matplotlib.axis.XTick at 0x7fe5afac2210>,\n",
       "  <matplotlib.axis.XTick at 0x7fe5afa4f3d0>,\n",
       "  <matplotlib.axis.XTick at 0x7fe5afa45450>,\n",
       "  <matplotlib.axis.XTick at 0x7fe5afa45bd0>,\n",
       "  <matplotlib.axis.XTick at 0x7fe5af9ce390>,\n",
       "  <matplotlib.axis.XTick at 0x7fe5af9ceb10>,\n",
       "  <matplotlib.axis.XTick at 0x7fe5af9d72d0>,\n",
       "  <matplotlib.axis.XTick at 0x7fe5af9d7a50>,\n",
       "  <matplotlib.axis.XTick at 0x7fe5af9e2210>,\n",
       "  <matplotlib.axis.XTick at 0x7fe5af9e2990>,\n",
       "  <matplotlib.axis.XTick at 0x7fe5af9ec150>,\n",
       "  <matplotlib.axis.XTick at 0x7fe5af9ec8d0>,\n",
       "  <matplotlib.axis.XTick at 0x7fe5af9f5090>,\n",
       "  <matplotlib.axis.XTick at 0x7fe5af9f5810>],\n",
       " <a list of 15 Text xticklabel objects>)"
      ]
     },
     "execution_count": 136,
     "metadata": {},
     "output_type": "execute_result"
    },
    {
     "data": {
      "image/png": "[encoded data removed]",
      "text/plain": [
       "<matplotlib.figure.Figure at 0x7fe5b130c750>"
      ]
     },
     "metadata": {},
     "output_type": "display_data"
    }
   ],
   "source": [
    "#Now we draw the graph\n",
    "%pylab inline\n",
    "index = np.arange(len(batting_team_CHN_year_mean)/10+1)\n",
    "bar_width = 0.5\n",
    "index_graph = []\n",
    "# we create a list with numbers so the order in the graph stays as it should\n",
    "for i in range(len(batting_team_CHN_year_mean)/10+1):\n",
    "    index_graph.append(i+1)\n",
    "opacity = 0.4\n",
    "error_config = {'ecolor': '0.3'}\n",
    "# Here we check and change the size of the graph so it can be readable\n",
    "fig_size = plt.rcParams[\"figure.figsize\"]\n",
    "print \"Current size:\", fig_size\n",
    "fig_size[0] = 17\n",
    "fig_size[1] = 12\n",
    "plt.rcParams[\"figure.figsize\"] = fig_size\n",
    "# Plot ad stablish title and axis\n",
    "plt.bar(index, batting_team_CHN_ten_year, bar_width,\n",
    "                 alpha=opacity,\n",
    "                 color='b',\n",
    "                 yerr=index_graph,\n",
    "                 error_kw=error_config,\n",
    "                 label='year')\n",
    "plt.xlabel('Years')\n",
    "plt.ylabel('Ability Mean')\n",
    "plt.title('Chicago Cubs progress throgh their carreer')\n",
    "plt.xticks(index + bar_width, index_CHN)"
   ]
  },
  {
   "cell_type": "markdown",
   "metadata": {},
   "source": [
    "Thanks to some research we were able to show the development in ten year intervals. As we can see the peak was in their begings but they have been able to stay close to the average."
   ]
  },
  {
   "cell_type": "code",
   "execution_count": 137,
   "metadata": {
    "collapsed": false
   },
   "outputs": [
    {
     "name": "stdout",
     "output_type": "stream",
     "text": [
      "67.3811452065\n",
      "100.336734694\n",
      "1894\n"
     ]
    }
   ],
   "source": [
    "# Now we check out the performance of the player throut the years\n",
    "#first by grouping the national leage data by year\n",
    "batting_year = batting_NL.groupby(['yearID'])\n",
    "Than we obtain the basic statistics\n",
    "batting_year_mean = batting_year['ability'].mean()\n",
    "print str(batting_year_mean.mean())\n",
    "print str(batting_year_mean.max())\n",
    "print str(batting_year_mean.argmax())"
   ]
  },
  {
   "cell_type": "code",
   "execution_count": 138,
   "metadata": {
    "collapsed": false
   },
   "outputs": [
    {
     "data": {
      "text/plain": [
       "<matplotlib.axes._subplots.AxesSubplot at 0x7fe5afb64b10>"
      ]
     },
     "execution_count": 138,
     "metadata": {},
     "output_type": "execute_result"
    },
    {
     "data": {
      "image/png": "[encoded data removed]",
      "text/plain": [
       "<matplotlib.figure.Figure at 0x7fe5b0044a10>"
      ]
     },
     "metadata": {},
     "output_type": "display_data"
    }
   ],
   "source": [
    "# we plot the data so we can take a look\n",
    "batting_year_mean.plot()"
   ]
  },
  {
   "cell_type": "markdown",
   "metadata": {},
   "source": [
    "Here we can see the development of the National League throught the years. Thanks to the previous mean we imagine the maximum to be around late 1980s. However seeing the graph we discover an acute drop near 1980, so we are going to look what is the minimum and take a look at the expanded data in order to find out why that happend"
   ]
  },
  {
   "cell_type": "code",
   "execution_count": 45,
   "metadata": {
    "collapsed": false
   },
   "outputs": [
    {
     "name": "stdout",
     "output_type": "stream",
     "text": [
      "42.4346846847\n",
      "1981\n"
     ]
    }
   ],
   "source": [
    "print str(batting_year_mean.min())\n",
    "print str(batting_year_mean.argmin())"
   ]
  },
  {
   "cell_type": "markdown",
   "metadata": {},
   "source": [
    "As we expected the worst year for baseball was in 1981 so far, with a mean for the year 42.43, although the global mean for baseball is 67.38. In order to see how possible is to for this results to repeat again we are going to use the standard deviation"
   ]
  },
  {
   "cell_type": "code",
   "execution_count": 55,
   "metadata": {
    "collapsed": false
   },
   "outputs": [
    {
     "name": "stdout",
     "output_type": "stream",
     "text": [
      "the 1981 result is 2.44 standard deviations from the mean\n"
     ]
    }
   ],
   "source": [
    "# Here we want to check how probable is to have another bad year\n",
    "# we start by calculating the standard deviation\n",
    "year_std = batting_year_mean.std()\n",
    "# Then we calculate how many standard deviation from the mean is that year\n",
    "std_from_mean = (batting_year_mean.mean() - batting_year_mean.min()) / year_std\n",
    "print \"the 1981 result is \" + str(std_from_mean.round(2)) + \" standard deviations from the mean\""
   ]
  },
  {
   "cell_type": "markdown",
   "metadata": {},
   "source": [
    "#### Conclusions\n",
    "Once we now the standard deviation from the mean we just have to take a look to the z table to see the probability of having another year like this one. Once we look in http://www.stat.ufl.edu/~athienit/Tables/Ztable.pdf we found out that the probability of having a year like this is 0.0073.\n",
    "So we can assume that the chance of having another year like this, based on our calculations, is really slim."
   ]
  },
  {
   "cell_type": "markdown",
   "metadata": {},
   "source": [
    "## Bilbliography\n",
    "\n",
    "* t-table : http://www.stat.ufl.edu/~athienit/Tables/Ztable.pdf\n",
    "* standard deviation : http://pandas.pydata.org/pandas-docs/stable/generated/pandas.DataFrame.std.html\n",
    "* round : http://pandas.pydata.org/pandas-docs/stable/generated/pandas.DataFrame.round.html\n",
    "* change size of plot : https://codeyarns.com/2014/10/27/how-to-change-size-of-matplotlib-plot/\n",
    "* plot bar: http://matplotlib.org/examples/api/barchart_demo.html\n",
    "* team abbreviations : https://www.reddit.com/r/baseball/comments/3t97mi/team_abbreviations/\n",
    "* baltimore orioles : http://www.baseball-reference.com/teams/BLN/1895.shtml\n",
    "* group_by itearte : http://stackoverflow.com/questions/27405483/how-to-loop-over-grouped-pandas-dataframe\n",
    "* get_group : http://pandas.pydata.org/pandas-docs/stable/generated/pandas.core.groupby.GroupBy.get_group.html\n",
    "* group_by : http://pandas.pydata.org/pandas-docs/stable/generated/pandas.DataFrame.groupby.html"
   ]
  },
  {
   "cell_type": "code",
   "execution_count": null,
   "metadata": {
    "collapsed": true
   },
   "outputs": [],
   "source": []
  }
 ],
 "metadata": {
  "kernelspec": {
   "display_name": "Python [Root]",
   "language": "python",
   "name": "Python [Root]"
  },
  "language_info": {
   "codemirror_mode": {
    "name": "ipython",
    "version": 2
   },
   "file_extension": ".py",
   "mimetype": "text/x-python",
   "name": "python",
   "nbconvert_exporter": "python",
   "pygments_lexer": "ipython2",
   "version": "2.7.12"
  }
 },
 "nbformat": 4,
 "nbformat_minor": 0
}
