{
 "cells": [
  {
   "cell_type": "code",
   "execution_count": 47,
   "metadata": {
    "collapsed": true
   },
   "outputs": [],
   "source": [
    "import pandas as pd\n",
    "import numpy as np\n",
    "import matplotlib.pyplot as plt\n",
    "# we will use the %pylab inline so the graph appears in the notebook\n",
    "import seaborn as sns"
   ]
  },
  {
   "cell_type": "markdown",
   "metadata": {},
   "source": [
    "Once we have imported the necessary libraries we load the dataset"
   ]
  },
  {
   "cell_type": "code",
   "execution_count": 48,
   "metadata": {
    "collapsed": false
   },
   "outputs": [],
   "source": [
    "batting = pd.read_csv(\"Batting.csv\")"
   ]
  },
  {
   "cell_type": "markdown",
   "metadata": {},
   "source": [
    "Lets take a look at the dataset"
   ]
  },
  {
   "cell_type": "code",
   "execution_count": 49,
   "metadata": {
    "collapsed": false
   },
   "outputs": [
    {
     "data": {
      "text/html": [
       "<div>\n",
       "<table border=\"1\" class=\"dataframe\">\n",
       "  <thead>\n",
       "    <tr style=\"text-align: right;\">\n",
       "      <th></th>\n",
       "      <th>playerID</th>\n",
       "      <th>yearID</th>\n",
       "      <th>stint</th>\n",
       "      <th>teamID</th>\n",
       "      <th>lgID</th>\n",
       "      <th>G</th>\n",
       "      <th>AB</th>\n",
       "      <th>R</th>\n",
       "      <th>H</th>\n",
       "      <th>2B</th>\n",
       "      <th>...</th>\n",
       "      <th>RBI</th>\n",
       "      <th>SB</th>\n",
       "      <th>CS</th>\n",
       "      <th>BB</th>\n",
       "      <th>SO</th>\n",
       "      <th>IBB</th>\n",
       "      <th>HBP</th>\n",
       "      <th>SH</th>\n",
       "      <th>SF</th>\n",
       "      <th>GIDP</th>\n",
       "    </tr>\n",
       "  </thead>\n",
       "  <tbody>\n",
       "    <tr>\n",
       "      <th>0</th>\n",
       "      <td>abercda01</td>\n",
       "      <td>1871</td>\n",
       "      <td>1</td>\n",
       "      <td>TRO</td>\n",
       "      <td>NaN</td>\n",
       "      <td>1</td>\n",
       "      <td>4.0</td>\n",
       "      <td>0.0</td>\n",
       "      <td>0.0</td>\n",
       "      <td>0.0</td>\n",
       "      <td>...</td>\n",
       "      <td>0.0</td>\n",
       "      <td>0.0</td>\n",
       "      <td>0.0</td>\n",
       "      <td>0.0</td>\n",
       "      <td>0.0</td>\n",
       "      <td>NaN</td>\n",
       "      <td>NaN</td>\n",
       "      <td>NaN</td>\n",
       "      <td>NaN</td>\n",
       "      <td>NaN</td>\n",
       "    </tr>\n",
       "    <tr>\n",
       "      <th>1</th>\n",
       "      <td>addybo01</td>\n",
       "      <td>1871</td>\n",
       "      <td>1</td>\n",
       "      <td>RC1</td>\n",
       "      <td>NaN</td>\n",
       "      <td>25</td>\n",
       "      <td>118.0</td>\n",
       "      <td>30.0</td>\n",
       "      <td>32.0</td>\n",
       "      <td>6.0</td>\n",
       "      <td>...</td>\n",
       "      <td>13.0</td>\n",
       "      <td>8.0</td>\n",
       "      <td>1.0</td>\n",
       "      <td>4.0</td>\n",
       "      <td>0.0</td>\n",
       "      <td>NaN</td>\n",
       "      <td>NaN</td>\n",
       "      <td>NaN</td>\n",
       "      <td>NaN</td>\n",
       "      <td>NaN</td>\n",
       "    </tr>\n",
       "    <tr>\n",
       "      <th>2</th>\n",
       "      <td>allisar01</td>\n",
       "      <td>1871</td>\n",
       "      <td>1</td>\n",
       "      <td>CL1</td>\n",
       "      <td>NaN</td>\n",
       "      <td>29</td>\n",
       "      <td>137.0</td>\n",
       "      <td>28.0</td>\n",
       "      <td>40.0</td>\n",
       "      <td>4.0</td>\n",
       "      <td>...</td>\n",
       "      <td>19.0</td>\n",
       "      <td>3.0</td>\n",
       "      <td>1.0</td>\n",
       "      <td>2.0</td>\n",
       "      <td>5.0</td>\n",
       "      <td>NaN</td>\n",
       "      <td>NaN</td>\n",
       "      <td>NaN</td>\n",
       "      <td>NaN</td>\n",
       "      <td>NaN</td>\n",
       "    </tr>\n",
       "    <tr>\n",
       "      <th>3</th>\n",
       "      <td>allisdo01</td>\n",
       "      <td>1871</td>\n",
       "      <td>1</td>\n",
       "      <td>WS3</td>\n",
       "      <td>NaN</td>\n",
       "      <td>27</td>\n",
       "      <td>133.0</td>\n",
       "      <td>28.0</td>\n",
       "      <td>44.0</td>\n",
       "      <td>10.0</td>\n",
       "      <td>...</td>\n",
       "      <td>27.0</td>\n",
       "      <td>1.0</td>\n",
       "      <td>1.0</td>\n",
       "      <td>0.0</td>\n",
       "      <td>2.0</td>\n",
       "      <td>NaN</td>\n",
       "      <td>NaN</td>\n",
       "      <td>NaN</td>\n",
       "      <td>NaN</td>\n",
       "      <td>NaN</td>\n",
       "    </tr>\n",
       "    <tr>\n",
       "      <th>4</th>\n",
       "      <td>ansonca01</td>\n",
       "      <td>1871</td>\n",
       "      <td>1</td>\n",
       "      <td>RC1</td>\n",
       "      <td>NaN</td>\n",
       "      <td>25</td>\n",
       "      <td>120.0</td>\n",
       "      <td>29.0</td>\n",
       "      <td>39.0</td>\n",
       "      <td>11.0</td>\n",
       "      <td>...</td>\n",
       "      <td>16.0</td>\n",
       "      <td>6.0</td>\n",
       "      <td>2.0</td>\n",
       "      <td>2.0</td>\n",
       "      <td>1.0</td>\n",
       "      <td>NaN</td>\n",
       "      <td>NaN</td>\n",
       "      <td>NaN</td>\n",
       "      <td>NaN</td>\n",
       "      <td>NaN</td>\n",
       "    </tr>\n",
       "  </tbody>\n",
       "</table>\n",
       "<p>5 rows × 22 columns</p>\n",
       "</div>"
      ],
      "text/plain": [
       "    playerID  yearID  stint teamID lgID   G     AB     R     H    2B  ...   \\\n",
       "0  abercda01    1871      1    TRO  NaN   1    4.0   0.0   0.0   0.0  ...    \n",
       "1   addybo01    1871      1    RC1  NaN  25  118.0  30.0  32.0   6.0  ...    \n",
       "2  allisar01    1871      1    CL1  NaN  29  137.0  28.0  40.0   4.0  ...    \n",
       "3  allisdo01    1871      1    WS3  NaN  27  133.0  28.0  44.0  10.0  ...    \n",
       "4  ansonca01    1871      1    RC1  NaN  25  120.0  29.0  39.0  11.0  ...    \n",
       "\n",
       "    RBI   SB   CS   BB   SO  IBB  HBP  SH  SF  GIDP  \n",
       "0   0.0  0.0  0.0  0.0  0.0  NaN  NaN NaN NaN   NaN  \n",
       "1  13.0  8.0  1.0  4.0  0.0  NaN  NaN NaN NaN   NaN  \n",
       "2  19.0  3.0  1.0  2.0  5.0  NaN  NaN NaN NaN   NaN  \n",
       "3  27.0  1.0  1.0  0.0  2.0  NaN  NaN NaN NaN   NaN  \n",
       "4  16.0  6.0  2.0  2.0  1.0  NaN  NaN NaN NaN   NaN  \n",
       "\n",
       "[5 rows x 22 columns]"
      ]
     },
     "execution_count": 49,
     "metadata": {},
     "output_type": "execute_result"
    }
   ],
   "source": [
    "batting.head()"
   ]
  },
  {
   "cell_type": "markdown",
   "metadata": {},
   "source": [
    "### 1.\n",
    "As we can see there are some NaNs in the data set, so we decided to fill these blanks with 0 so we can make complete calculations. The fill with 0 is because we can understand that if a player has a record here he must have done something."
   ]
  },
  {
   "cell_type": "code",
   "execution_count": 50,
   "metadata": {
    "collapsed": false
   },
   "outputs": [
    {
     "data": {
      "text/plain": [
       "101332"
      ]
     },
     "execution_count": 50,
     "metadata": {},
     "output_type": "execute_result"
    }
   ],
   "source": [
    "len(batting)"
   ]
  },
  {
   "cell_type": "code",
   "execution_count": 51,
   "metadata": {
    "collapsed": true
   },
   "outputs": [],
   "source": [
    "batting_filled = batting.fillna(value=0)"
   ]
  },
  {
   "cell_type": "code",
   "execution_count": 52,
   "metadata": {
    "collapsed": false
   },
   "outputs": [
    {
     "data": {
      "text/plain": [
       "playerID     object\n",
       "yearID        int64\n",
       "stint         int64\n",
       "teamID       object\n",
       "lgID         object\n",
       "G             int64\n",
       "AB          float64\n",
       "R           float64\n",
       "H           float64\n",
       "2B          float64\n",
       "3B          float64\n",
       "HR          float64\n",
       "RBI         float64\n",
       "SB          float64\n",
       "CS          float64\n",
       "BB          float64\n",
       "SO          float64\n",
       "IBB         float64\n",
       "HBP         float64\n",
       "SH          float64\n",
       "SF          float64\n",
       "GIDP        float64\n",
       "dtype: object"
      ]
     },
     "execution_count": 52,
     "metadata": {},
     "output_type": "execute_result"
    }
   ],
   "source": [
    "batting_filled.dtypes"
   ]
  },
  {
   "cell_type": "markdown",
   "metadata": {},
   "source": [
    "##### What is the mean of the batting of the whole dataset and who has had the best season in history?"
   ]
  },
  {
   "cell_type": "code",
   "execution_count": 53,
   "metadata": {
    "collapsed": false
   },
   "outputs": [
    {
     "data": {
      "text/plain": [
       "142.3498598665772"
      ]
     },
     "execution_count": 53,
     "metadata": {},
     "output_type": "execute_result"
    }
   ],
   "source": [
    "batting_filled['AB'].mean()"
   ]
  },
  {
   "cell_type": "code",
   "execution_count": 54,
   "metadata": {
    "collapsed": false
   },
   "outputs": [
    {
     "data": {
      "text/plain": [
       "716.0"
      ]
     },
     "execution_count": 54,
     "metadata": {},
     "output_type": "execute_result"
    }
   ],
   "source": [
    "batting_filled['AB'].max()"
   ]
  },
  {
   "cell_type": "code",
   "execution_count": 55,
   "metadata": {
    "collapsed": false
   },
   "outputs": [
    {
     "data": {
      "text/plain": [
       "playerID    rolliji01\n",
       "yearID           2007\n",
       "stint               1\n",
       "teamID            PHI\n",
       "lgID               NL\n",
       "G                 162\n",
       "AB                716\n",
       "R                 139\n",
       "H                 212\n",
       "2B                 38\n",
       "3B                 20\n",
       "HR                 30\n",
       "RBI                94\n",
       "SB                 41\n",
       "CS                  6\n",
       "BB                 49\n",
       "SO                 85\n",
       "IBB                 5\n",
       "HBP                 7\n",
       "SH                  0\n",
       "SF                  6\n",
       "GIDP               11\n",
       "Name: 89776, dtype: object"
      ]
     },
     "execution_count": 55,
     "metadata": {},
     "output_type": "execute_result"
    }
   ],
   "source": [
    "batting_filled.iloc[batting_filled['AB'].argmax()]"
   ]
  },
  {
   "cell_type": "markdown",
   "metadata": {},
   "source": [
    "The calculations here has been done as if every entry was a different player. However, as we saw during the investigation of the data, there are several entries for the same player depending on the year player and sometimes changing the team too. In the next entries we will investigate different ways of treating the data, given that this way doesnt show the players development through the years"
   ]
  },
  {
   "cell_type": "markdown",
   "metadata": {},
   "source": [
    "##### Who has the best batting score in history and what is the mean batting for a player"
   ]
  },
  {
   "cell_type": "code",
   "execution_count": 56,
   "metadata": {
    "collapsed": false
   },
   "outputs": [],
   "source": [
    "batting_group_player = batting_filled.groupby(['playerID'])"
   ]
  },
  {
   "cell_type": "code",
   "execution_count": 57,
   "metadata": {
    "collapsed": false
   },
   "outputs": [
    {
     "data": {
      "text/plain": [
       "18659"
      ]
     },
     "execution_count": 57,
     "metadata": {},
     "output_type": "execute_result"
    }
   ],
   "source": [
    "len(batting_group_player)"
   ]
  },
  {
   "cell_type": "code",
   "execution_count": 58,
   "metadata": {
    "collapsed": false
   },
   "outputs": [],
   "source": [
    "player_means = batting_group_player['AB'].mean()"
   ]
  },
  {
   "cell_type": "code",
   "execution_count": 59,
   "metadata": {
    "collapsed": false
   },
   "outputs": [
    {
     "data": {
      "text/plain": [
       "84.50710972280667"
      ]
     },
     "execution_count": 59,
     "metadata": {},
     "output_type": "execute_result"
    }
   ],
   "source": [
    "player_means.mean()"
   ]
  },
  {
   "cell_type": "markdown",
   "metadata": {},
   "source": [
    "Here we see the great difference between the mean batting for a player in their carreer and the mean of a players in a year"
   ]
  },
  {
   "cell_type": "code",
   "execution_count": 60,
   "metadata": {
    "collapsed": false
   },
   "outputs": [],
   "source": [
    "maximum_batter = player_means.argmax()"
   ]
  },
  {
   "cell_type": "code",
   "execution_count": 61,
   "metadata": {
    "collapsed": false
   },
   "outputs": [
    {
     "data": {
      "text/html": [
       "<div>\n",
       "<table border=\"1\" class=\"dataframe\">\n",
       "  <thead>\n",
       "    <tr style=\"text-align: right;\">\n",
       "      <th></th>\n",
       "      <th>playerID</th>\n",
       "      <th>yearID</th>\n",
       "      <th>stint</th>\n",
       "      <th>teamID</th>\n",
       "      <th>lgID</th>\n",
       "      <th>G</th>\n",
       "      <th>AB</th>\n",
       "      <th>R</th>\n",
       "      <th>H</th>\n",
       "      <th>2B</th>\n",
       "      <th>...</th>\n",
       "      <th>RBI</th>\n",
       "      <th>SB</th>\n",
       "      <th>CS</th>\n",
       "      <th>BB</th>\n",
       "      <th>SO</th>\n",
       "      <th>IBB</th>\n",
       "      <th>HBP</th>\n",
       "      <th>SH</th>\n",
       "      <th>SF</th>\n",
       "      <th>GIDP</th>\n",
       "    </tr>\n",
       "  </thead>\n",
       "  <tbody>\n",
       "    <tr>\n",
       "      <th>61930</th>\n",
       "      <td>puckeki01</td>\n",
       "      <td>1984</td>\n",
       "      <td>1</td>\n",
       "      <td>MIN</td>\n",
       "      <td>AL</td>\n",
       "      <td>128</td>\n",
       "      <td>557.0</td>\n",
       "      <td>63.0</td>\n",
       "      <td>165.0</td>\n",
       "      <td>12.0</td>\n",
       "      <td>...</td>\n",
       "      <td>31.0</td>\n",
       "      <td>14.0</td>\n",
       "      <td>7.0</td>\n",
       "      <td>16.0</td>\n",
       "      <td>69.0</td>\n",
       "      <td>1.0</td>\n",
       "      <td>4.0</td>\n",
       "      <td>4.0</td>\n",
       "      <td>2.0</td>\n",
       "      <td>11.0</td>\n",
       "    </tr>\n",
       "    <tr>\n",
       "      <th>62938</th>\n",
       "      <td>puckeki01</td>\n",
       "      <td>1985</td>\n",
       "      <td>1</td>\n",
       "      <td>MIN</td>\n",
       "      <td>AL</td>\n",
       "      <td>161</td>\n",
       "      <td>691.0</td>\n",
       "      <td>80.0</td>\n",
       "      <td>199.0</td>\n",
       "      <td>29.0</td>\n",
       "      <td>...</td>\n",
       "      <td>74.0</td>\n",
       "      <td>21.0</td>\n",
       "      <td>12.0</td>\n",
       "      <td>41.0</td>\n",
       "      <td>87.0</td>\n",
       "      <td>0.0</td>\n",
       "      <td>4.0</td>\n",
       "      <td>5.0</td>\n",
       "      <td>3.0</td>\n",
       "      <td>9.0</td>\n",
       "    </tr>\n",
       "    <tr>\n",
       "      <th>63958</th>\n",
       "      <td>puckeki01</td>\n",
       "      <td>1986</td>\n",
       "      <td>1</td>\n",
       "      <td>MIN</td>\n",
       "      <td>AL</td>\n",
       "      <td>161</td>\n",
       "      <td>680.0</td>\n",
       "      <td>119.0</td>\n",
       "      <td>223.0</td>\n",
       "      <td>37.0</td>\n",
       "      <td>...</td>\n",
       "      <td>96.0</td>\n",
       "      <td>20.0</td>\n",
       "      <td>12.0</td>\n",
       "      <td>34.0</td>\n",
       "      <td>99.0</td>\n",
       "      <td>4.0</td>\n",
       "      <td>7.0</td>\n",
       "      <td>2.0</td>\n",
       "      <td>0.0</td>\n",
       "      <td>14.0</td>\n",
       "    </tr>\n",
       "    <tr>\n",
       "      <th>65013</th>\n",
       "      <td>puckeki01</td>\n",
       "      <td>1987</td>\n",
       "      <td>1</td>\n",
       "      <td>MIN</td>\n",
       "      <td>AL</td>\n",
       "      <td>157</td>\n",
       "      <td>624.0</td>\n",
       "      <td>96.0</td>\n",
       "      <td>207.0</td>\n",
       "      <td>32.0</td>\n",
       "      <td>...</td>\n",
       "      <td>99.0</td>\n",
       "      <td>12.0</td>\n",
       "      <td>7.0</td>\n",
       "      <td>32.0</td>\n",
       "      <td>91.0</td>\n",
       "      <td>7.0</td>\n",
       "      <td>6.0</td>\n",
       "      <td>0.0</td>\n",
       "      <td>6.0</td>\n",
       "      <td>16.0</td>\n",
       "    </tr>\n",
       "    <tr>\n",
       "      <th>66042</th>\n",
       "      <td>puckeki01</td>\n",
       "      <td>1988</td>\n",
       "      <td>1</td>\n",
       "      <td>MIN</td>\n",
       "      <td>AL</td>\n",
       "      <td>158</td>\n",
       "      <td>657.0</td>\n",
       "      <td>109.0</td>\n",
       "      <td>234.0</td>\n",
       "      <td>42.0</td>\n",
       "      <td>...</td>\n",
       "      <td>121.0</td>\n",
       "      <td>6.0</td>\n",
       "      <td>7.0</td>\n",
       "      <td>23.0</td>\n",
       "      <td>83.0</td>\n",
       "      <td>4.0</td>\n",
       "      <td>2.0</td>\n",
       "      <td>0.0</td>\n",
       "      <td>9.0</td>\n",
       "      <td>17.0</td>\n",
       "    </tr>\n",
       "    <tr>\n",
       "      <th>67100</th>\n",
       "      <td>puckeki01</td>\n",
       "      <td>1989</td>\n",
       "      <td>1</td>\n",
       "      <td>MIN</td>\n",
       "      <td>AL</td>\n",
       "      <td>159</td>\n",
       "      <td>635.0</td>\n",
       "      <td>75.0</td>\n",
       "      <td>215.0</td>\n",
       "      <td>45.0</td>\n",
       "      <td>...</td>\n",
       "      <td>85.0</td>\n",
       "      <td>11.0</td>\n",
       "      <td>4.0</td>\n",
       "      <td>41.0</td>\n",
       "      <td>59.0</td>\n",
       "      <td>9.0</td>\n",
       "      <td>3.0</td>\n",
       "      <td>0.0</td>\n",
       "      <td>5.0</td>\n",
       "      <td>21.0</td>\n",
       "    </tr>\n",
       "    <tr>\n",
       "      <th>68223</th>\n",
       "      <td>puckeki01</td>\n",
       "      <td>1990</td>\n",
       "      <td>1</td>\n",
       "      <td>MIN</td>\n",
       "      <td>AL</td>\n",
       "      <td>146</td>\n",
       "      <td>551.0</td>\n",
       "      <td>82.0</td>\n",
       "      <td>164.0</td>\n",
       "      <td>40.0</td>\n",
       "      <td>...</td>\n",
       "      <td>80.0</td>\n",
       "      <td>5.0</td>\n",
       "      <td>4.0</td>\n",
       "      <td>57.0</td>\n",
       "      <td>73.0</td>\n",
       "      <td>11.0</td>\n",
       "      <td>3.0</td>\n",
       "      <td>1.0</td>\n",
       "      <td>3.0</td>\n",
       "      <td>15.0</td>\n",
       "    </tr>\n",
       "    <tr>\n",
       "      <th>69317</th>\n",
       "      <td>puckeki01</td>\n",
       "      <td>1991</td>\n",
       "      <td>1</td>\n",
       "      <td>MIN</td>\n",
       "      <td>AL</td>\n",
       "      <td>152</td>\n",
       "      <td>611.0</td>\n",
       "      <td>92.0</td>\n",
       "      <td>195.0</td>\n",
       "      <td>29.0</td>\n",
       "      <td>...</td>\n",
       "      <td>89.0</td>\n",
       "      <td>11.0</td>\n",
       "      <td>5.0</td>\n",
       "      <td>31.0</td>\n",
       "      <td>78.0</td>\n",
       "      <td>4.0</td>\n",
       "      <td>4.0</td>\n",
       "      <td>8.0</td>\n",
       "      <td>7.0</td>\n",
       "      <td>27.0</td>\n",
       "    </tr>\n",
       "    <tr>\n",
       "      <th>70377</th>\n",
       "      <td>puckeki01</td>\n",
       "      <td>1992</td>\n",
       "      <td>1</td>\n",
       "      <td>MIN</td>\n",
       "      <td>AL</td>\n",
       "      <td>160</td>\n",
       "      <td>639.0</td>\n",
       "      <td>104.0</td>\n",
       "      <td>210.0</td>\n",
       "      <td>38.0</td>\n",
       "      <td>...</td>\n",
       "      <td>110.0</td>\n",
       "      <td>17.0</td>\n",
       "      <td>7.0</td>\n",
       "      <td>44.0</td>\n",
       "      <td>97.0</td>\n",
       "      <td>13.0</td>\n",
       "      <td>6.0</td>\n",
       "      <td>1.0</td>\n",
       "      <td>6.0</td>\n",
       "      <td>17.0</td>\n",
       "    </tr>\n",
       "    <tr>\n",
       "      <th>71540</th>\n",
       "      <td>puckeki01</td>\n",
       "      <td>1993</td>\n",
       "      <td>1</td>\n",
       "      <td>MIN</td>\n",
       "      <td>AL</td>\n",
       "      <td>156</td>\n",
       "      <td>622.0</td>\n",
       "      <td>89.0</td>\n",
       "      <td>184.0</td>\n",
       "      <td>39.0</td>\n",
       "      <td>...</td>\n",
       "      <td>89.0</td>\n",
       "      <td>8.0</td>\n",
       "      <td>6.0</td>\n",
       "      <td>47.0</td>\n",
       "      <td>93.0</td>\n",
       "      <td>7.0</td>\n",
       "      <td>7.0</td>\n",
       "      <td>1.0</td>\n",
       "      <td>5.0</td>\n",
       "      <td>15.0</td>\n",
       "    </tr>\n",
       "    <tr>\n",
       "      <th>72605</th>\n",
       "      <td>puckeki01</td>\n",
       "      <td>1994</td>\n",
       "      <td>1</td>\n",
       "      <td>MIN</td>\n",
       "      <td>AL</td>\n",
       "      <td>108</td>\n",
       "      <td>439.0</td>\n",
       "      <td>79.0</td>\n",
       "      <td>139.0</td>\n",
       "      <td>32.0</td>\n",
       "      <td>...</td>\n",
       "      <td>112.0</td>\n",
       "      <td>6.0</td>\n",
       "      <td>3.0</td>\n",
       "      <td>28.0</td>\n",
       "      <td>47.0</td>\n",
       "      <td>7.0</td>\n",
       "      <td>7.0</td>\n",
       "      <td>1.0</td>\n",
       "      <td>7.0</td>\n",
       "      <td>11.0</td>\n",
       "    </tr>\n",
       "    <tr>\n",
       "      <th>73797</th>\n",
       "      <td>puckeki01</td>\n",
       "      <td>1995</td>\n",
       "      <td>1</td>\n",
       "      <td>MIN</td>\n",
       "      <td>AL</td>\n",
       "      <td>137</td>\n",
       "      <td>538.0</td>\n",
       "      <td>83.0</td>\n",
       "      <td>169.0</td>\n",
       "      <td>39.0</td>\n",
       "      <td>...</td>\n",
       "      <td>99.0</td>\n",
       "      <td>3.0</td>\n",
       "      <td>2.0</td>\n",
       "      <td>56.0</td>\n",
       "      <td>89.0</td>\n",
       "      <td>18.0</td>\n",
       "      <td>3.0</td>\n",
       "      <td>0.0</td>\n",
       "      <td>5.0</td>\n",
       "      <td>15.0</td>\n",
       "    </tr>\n",
       "  </tbody>\n",
       "</table>\n",
       "<p>12 rows × 22 columns</p>\n",
       "</div>"
      ],
      "text/plain": [
       "        playerID  yearID  stint teamID lgID    G     AB      R      H    2B  \\\n",
       "61930  puckeki01    1984      1    MIN   AL  128  557.0   63.0  165.0  12.0   \n",
       "62938  puckeki01    1985      1    MIN   AL  161  691.0   80.0  199.0  29.0   \n",
       "63958  puckeki01    1986      1    MIN   AL  161  680.0  119.0  223.0  37.0   \n",
       "65013  puckeki01    1987      1    MIN   AL  157  624.0   96.0  207.0  32.0   \n",
       "66042  puckeki01    1988      1    MIN   AL  158  657.0  109.0  234.0  42.0   \n",
       "67100  puckeki01    1989      1    MIN   AL  159  635.0   75.0  215.0  45.0   \n",
       "68223  puckeki01    1990      1    MIN   AL  146  551.0   82.0  164.0  40.0   \n",
       "69317  puckeki01    1991      1    MIN   AL  152  611.0   92.0  195.0  29.0   \n",
       "70377  puckeki01    1992      1    MIN   AL  160  639.0  104.0  210.0  38.0   \n",
       "71540  puckeki01    1993      1    MIN   AL  156  622.0   89.0  184.0  39.0   \n",
       "72605  puckeki01    1994      1    MIN   AL  108  439.0   79.0  139.0  32.0   \n",
       "73797  puckeki01    1995      1    MIN   AL  137  538.0   83.0  169.0  39.0   \n",
       "\n",
       "       ...     RBI    SB    CS    BB    SO   IBB  HBP   SH   SF  GIDP  \n",
       "61930  ...    31.0  14.0   7.0  16.0  69.0   1.0  4.0  4.0  2.0  11.0  \n",
       "62938  ...    74.0  21.0  12.0  41.0  87.0   0.0  4.0  5.0  3.0   9.0  \n",
       "63958  ...    96.0  20.0  12.0  34.0  99.0   4.0  7.0  2.0  0.0  14.0  \n",
       "65013  ...    99.0  12.0   7.0  32.0  91.0   7.0  6.0  0.0  6.0  16.0  \n",
       "66042  ...   121.0   6.0   7.0  23.0  83.0   4.0  2.0  0.0  9.0  17.0  \n",
       "67100  ...    85.0  11.0   4.0  41.0  59.0   9.0  3.0  0.0  5.0  21.0  \n",
       "68223  ...    80.0   5.0   4.0  57.0  73.0  11.0  3.0  1.0  3.0  15.0  \n",
       "69317  ...    89.0  11.0   5.0  31.0  78.0   4.0  4.0  8.0  7.0  27.0  \n",
       "70377  ...   110.0  17.0   7.0  44.0  97.0  13.0  6.0  1.0  6.0  17.0  \n",
       "71540  ...    89.0   8.0   6.0  47.0  93.0   7.0  7.0  1.0  5.0  15.0  \n",
       "72605  ...   112.0   6.0   3.0  28.0  47.0   7.0  7.0  1.0  7.0  11.0  \n",
       "73797  ...    99.0   3.0   2.0  56.0  89.0  18.0  3.0  0.0  5.0  15.0  \n",
       "\n",
       "[12 rows x 22 columns]"
      ]
     },
     "execution_count": 61,
     "metadata": {},
     "output_type": "execute_result"
    }
   ],
   "source": [
    "batting_filled.loc[batting_filled['playerID'] == player_means.argmax()]"
   ]
  },
  {
   "cell_type": "markdown",
   "metadata": {},
   "source": [
    "As we can see the player with the best batting scores in history is puckeki01 wich thanks to some research we found out that it referred to Kirby Puckett."
   ]
  },
  {
   "cell_type": "markdown",
   "metadata": {},
   "source": [
    "#### Conclusions\n",
    "As we can se with this dataset we have been able to see different aspects of the batting but we have to realize that having the best batting score doesnt mean that you are the best baseball player. Given the fact those battings that end up in no bases or points acomplished are also taken into account like when the ball doenst land in fair territory.\n",
    "So in the next cells we will be ansering multiple questions now based on the bases and homeruns achieved."
   ]
  },
  {
   "cell_type": "markdown",
   "metadata": {},
   "source": [
    "### 2. \n",
    "In our data we have three columns that gives us insight about the players ability to bat. The first one is H which counts all the hits that ended up in winning one base. The second is the 2B column wich specfies the number of times the player has achieved a 2 base hit, the same goes for the 3B for 3 base hit. Finally we have the HR variable wich has all the homeruns achieved by the player"
   ]
  },
  {
   "cell_type": "markdown",
   "metadata": {},
   "source": [
    "In order to stablish a ranking system to see who is the best player, we have decided to give different weights to each of the previous variables. the rule we are going to apply is the following: \n",
    "hx1 + 2bx2 + 3bx3 + hrx4\n",
    "I think this should give us a really good insight about the performace of the players throught the years"
   ]
  },
  {
   "cell_type": "code",
   "execution_count": 64,
   "metadata": {
    "collapsed": false
   },
   "outputs": [],
   "source": [
    "#Lets add a new column to our dataframe\n",
    "batting_ability = batting_filled['H'] + batting_filled['2B']*2 + batting_filled['3B']*3 + batting_filled['HR']*4\n",
    "\n",
    "batting_filled['ability'] = pd.Series(batting_ability, index=batting_filled)"
   ]
  },
  {
   "cell_type": "code",
   "execution_count": 67,
   "metadata": {
    "collapsed": false
   },
   "outputs": [],
   "source": [
    "batting_filled['ability'] = batting_ability"
   ]
  },
  {
   "cell_type": "code",
   "execution_count": 106,
   "metadata": {
    "collapsed": false,
    "scrolled": true
   },
   "outputs": [
    {
     "name": "stdout",
     "output_type": "stream",
     "text": [
      "the best player is pujolal01with and score of 408.0, he played from 2001 to 2015\n"
     ]
    }
   ],
   "source": [
    "batting_player = batting_filled.groupby(['playerID'])\n",
    "batting_player_means = batting_player['ability'].mean()\n",
    "years = list(batting_player['yearID'].get_group(batting_player_means.argmax()))\n",
    "start = years[0]\n",
    "end = years[len(years)-1]\n",
    "print \"the best player is \" + batting_player_means.argmax() + \"with and score of \" + str(batting_player_means.max()) + \", he played from \" + str(start) + \" to \" +  str(end)"
   ]
  },
  {
   "cell_type": "code",
   "execution_count": 145,
   "metadata": {
    "collapsed": false
   },
   "outputs": [
    {
     "data": {
      "text/plain": [
       "36.07847294868628"
      ]
     },
     "execution_count": 145,
     "metadata": {},
     "output_type": "execute_result"
    }
   ],
   "source": [
    "batting_player_means.mean()"
   ]
  },
  {
   "cell_type": "code",
   "execution_count": 104,
   "metadata": {
    "collapsed": false
   },
   "outputs": [
    {
     "name": "stdout",
     "output_type": "stream",
     "text": [
      "Populating the interactive namespace from numpy and matplotlib\n"
     ]
    },
    {
     "data": {
      "text/plain": [
       "<matplotlib.axes._subplots.AxesSubplot at 0x7fc4e8162e10>"
      ]
     },
     "execution_count": 104,
     "metadata": {},
     "output_type": "execute_result"
    },
    {
     "data": {
      "image/png": "[encoded data removed]",
      "text/plain": [
       "<matplotlib.figure.Figure at 0x7fc4e814e350>"
      ]
     },
     "metadata": {},
     "output_type": "display_data"
    }
   ],
   "source": [
    "%pylab inline\n",
    "batting_player_means.hist()"
   ]
  },
  {
   "cell_type": "code",
   "execution_count": 147,
   "metadata": {
    "collapsed": false
   },
   "outputs": [
    {
     "data": {
      "text/plain": [
       "18659"
      ]
     },
     "execution_count": 147,
     "metadata": {},
     "output_type": "execute_result"
    }
   ],
   "source": [
    "len(batting_player_means)"
   ]
  },
  {
   "cell_type": "markdown",
   "metadata": {},
   "source": [
    "Thanks to this histogram we can see the great difference between the mean and the maximum. As we expected if we give some thought to the game there are a lot of \"normal level\" players and there are some exceptional ones, as the histogram shows us.The graph is decresing with a drastical drop at the start and then a steady drop"
   ]
  },
  {
   "cell_type": "markdown",
   "metadata": {},
   "source": [
    "This time instead of repeating all the previous calculations we are going to be focusing on the preformance of the player or team. We also want to make some comparations between the performace of the teams along the years in order to discover if those teams now considered \"the best\" have always been or if it changes during time."
   ]
  },
  {
   "cell_type": "markdown",
   "metadata": {},
   "source": [
    "From now on we are going to focus solely in the National Leage of baseball given that those are the teams from which I wish to learn and understand"
   ]
  },
  {
   "cell_type": "code",
   "execution_count": 130,
   "metadata": {
    "collapsed": false
   },
   "outputs": [],
   "source": [
    "batting_NL = batting_filled.loc[lambda batting_filled: batting_filled.lgID == 'NL', :]\n",
    "batting_team = batting_NL.groupby(['teamID'])\n",
    "batting_year = batting_NL.groupby(['yearID'])"
   ]
  },
  {
   "cell_type": "code",
   "execution_count": 131,
   "metadata": {
    "collapsed": false
   },
   "outputs": [
    {
     "name": "stdout",
     "output_type": "stream",
     "text": [
      "Number of teams: 44\n",
      "Average ability of the teams: 64.2244113358\n",
      "Best team in history: BLN With a value of: 95.2864583333\n"
     ]
    }
   ],
   "source": [
    "batting_team_mean = batting_team['ability'].mean()\n",
    "print \"Number of teams: \" + str(len(batting_team_mean))\n",
    "print \"Average ability of the teams: \" + str(batting_team_mean.mean())\n",
    "print \"Best team in history: \" + batting_team_mean.argmax() + \" With a value of: \" + str(batting_team_mean.max())"
   ]
  },
  {
   "cell_type": "code",
   "execution_count": 154,
   "metadata": {
    "collapsed": false
   },
   "outputs": [
    {
     "data": {
      "text/plain": [
       "yearID\n",
       "1892     57.162162\n",
       "1893     79.000000\n",
       "1894    138.550000\n",
       "1895    118.350000\n",
       "1896    107.000000\n",
       "1897    117.200000\n",
       "1898     90.458333\n",
       "1899     91.583333\n",
       "Name: ability, dtype: float64"
      ]
     },
     "execution_count": 154,
     "metadata": {},
     "output_type": "execute_result"
    }
   ],
   "source": [
    "#lets try now to see the the progression of this team throught his years \n",
    "batting_team_BLN = batting_team.get_group(batting_team_mean.argmax())\n",
    "batting_team_BLN_year = batting_team_BLN.groupby(['yearID'])\n",
    "batting_team_BLN_year_mean = batting_team_BLN_year['ability'].mean()\n",
    "batting_team_BLN_year_mean"
   ]
  },
  {
   "cell_type": "code",
   "execution_count": 162,
   "metadata": {
    "collapsed": false
   },
   "outputs": [
    {
     "name": "stdout",
     "output_type": "stream",
     "text": [
      "Populating the interactive namespace from numpy and matplotlib\n"
     ]
    },
    {
     "data": {
      "text/plain": [
       "([<matplotlib.axis.XTick at 0x7fc4c6dba150>,\n",
       "  <matplotlib.axis.XTick at 0x7fc4c6dee190>,\n",
       "  <matplotlib.axis.XTick at 0x7fc4c6d75390>,\n",
       "  <matplotlib.axis.XTick at 0x7fc4c6d37310>,\n",
       "  <matplotlib.axis.XTick at 0x7fc4c6d37a90>,\n",
       "  <matplotlib.axis.XTick at 0x7fc4c6d3f250>,\n",
       "  <matplotlib.axis.XTick at 0x7fc4c6d3f9d0>,\n",
       "  <matplotlib.axis.XTick at 0x7fc4c6d49190>],\n",
       " <a list of 8 Text xticklabel objects>)"
      ]
     },
     "execution_count": 162,
     "metadata": {},
     "output_type": "execute_result"
    },
    {
     "data": {
      "image/png": "[encoded data removed]",
      "text/plain": [
       "<matplotlib.figure.Figure at 0x7fc4c6e3cb50>"
      ]
     },
     "metadata": {},
     "output_type": "display_data"
    }
   ],
   "source": [
    "%pylab inline\n",
    "index = np.arange(len(batting_team_BLN_year_mean))\n",
    "bar_width = 0.5\n",
    "index_graph = (1, 2, 3, 4, 5, 6, 7, 8)\n",
    "opacity = 0.4\n",
    "error_config = {'ecolor': '0.3'}\n",
    "plt.bar(index, batting_team_BLN_year_mean, bar_width,\n",
    "                 alpha=opacity,\n",
    "                 color='b',\n",
    "                 yerr=index_graph,\n",
    "                 error_kw=error_config,\n",
    "                 label='year')\n",
    "plt.xlabel('Years')\n",
    "plt.ylabel('Ability Mean')\n",
    "plt.title('Baltimore Orioles progress throgh their carreer')\n",
    "plt.xticks(index + bar_width, batting_team_BLN_year_mean.index)"
   ]
  },
  {
   "cell_type": "markdown",
   "metadata": {},
   "source": [
    "Once we were able to determine which team has had the best performace I find curious to konw that this teamwas disasembled 27 years ago, so it raised the question of\n",
    "#### Which team has been the most years in the National League"
   ]
  },
  {
   "cell_type": "code",
   "execution_count": 166,
   "metadata": {
    "collapsed": false
   },
   "outputs": [
    {
     "name": "stdout",
     "output_type": "stream",
     "text": [
      "830\n",
      "2050\n",
      "122\n",
      "192\n",
      "2160\n",
      "2223\n",
      "4818\n",
      "4488\n",
      "106\n",
      "252\n",
      "76\n",
      "1079\n",
      "181\n",
      "849\n",
      "27\n",
      "2047\n",
      "13\n",
      "66\n",
      "17\n",
      "2346\n",
      "29\n",
      "249\n",
      "194\n",
      "794\n",
      "467\n",
      "15\n",
      "1479\n",
      "2327\n",
      "24\n",
      "2292\n",
      "4721\n",
      "21\n",
      "4667\n",
      "130\n",
      "2007\n",
      "2300\n",
      "27\n",
      "50\n",
      "4627\n",
      "18\n",
      "69\n",
      "763\n",
      "60\n",
      "113\n"
     ]
    }
   ],
   "source": [
    "for name, group in batting_team:\n",
    "    print len(group['yearID'])"
   ]
  },
  {
   "cell_type": "code",
   "execution_count": null,
   "metadata": {
    "collapsed": true
   },
   "outputs": [],
   "source": []
  }
 ],
 "metadata": {
  "kernelspec": {
   "display_name": "Python [Root]",
   "language": "python",
   "name": "Python [Root]"
  },
  "language_info": {
   "codemirror_mode": {
    "name": "ipython",
    "version": 2
   },
   "file_extension": ".py",
   "mimetype": "text/x-python",
   "name": "python",
   "nbconvert_exporter": "python",
   "pygments_lexer": "ipython2",
   "version": "2.7.12"
  }
 },
 "nbformat": 4,
 "nbformat_minor": 0
}
