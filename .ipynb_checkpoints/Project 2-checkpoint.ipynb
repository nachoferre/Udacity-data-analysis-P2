{
 "cells": [
  {
   "cell_type": "markdown",
   "metadata": {},
   "source": [
    "# Project 2 - Batting Data Analysis"
   ]
  },
  {
   "cell_type": "markdown",
   "metadata": {},
   "source": [
    "## Introduction\n",
    "\n",
    "In this project we are going to be working with batting data provided by Sean Lahman. Each row of the data relates to one season of one player, from the team and the year played to the number of homeruns meade in that season. It refers to different leagues. However, in some of our investigations we will be focusing on just the National League. This dataset has data recorded from 1871 to 2015."
   ]
  },
  {
   "cell_type": "code",
   "execution_count": 294,
   "metadata": {
    "collapsed": true
   },
   "outputs": [],
   "source": [
    "import pandas as pd\n",
    "import numpy as np\n",
    "import matplotlib.pyplot as plt\n",
    "# we will use the %pylab inline so the graph appears in the notebook\n",
    "import seaborn as sns"
   ]
  },
  {
   "cell_type": "markdown",
   "metadata": {},
   "source": [
    "Once we have imported the necessary libraries we load the dataset"
   ]
  },
  {
   "cell_type": "code",
   "execution_count": 295,
   "metadata": {
    "collapsed": false
   },
   "outputs": [],
   "source": [
    "batting = pd.read_csv(\"Batting.csv\")"
   ]
  },
  {
   "cell_type": "markdown",
   "metadata": {},
   "source": [
    "Lets take a look at the dataset"
   ]
  },
  {
   "cell_type": "code",
   "execution_count": 296,
   "metadata": {
    "collapsed": false
   },
   "outputs": [
    {
     "data": {
      "text/html": [
       "<div>\n",
       "<table border=\"1\" class=\"dataframe\">\n",
       "  <thead>\n",
       "    <tr style=\"text-align: right;\">\n",
       "      <th></th>\n",
       "      <th>playerID</th>\n",
       "      <th>yearID</th>\n",
       "      <th>stint</th>\n",
       "      <th>teamID</th>\n",
       "      <th>lgID</th>\n",
       "      <th>G</th>\n",
       "      <th>AB</th>\n",
       "      <th>R</th>\n",
       "      <th>H</th>\n",
       "      <th>2B</th>\n",
       "      <th>...</th>\n",
       "      <th>RBI</th>\n",
       "      <th>SB</th>\n",
       "      <th>CS</th>\n",
       "      <th>BB</th>\n",
       "      <th>SO</th>\n",
       "      <th>IBB</th>\n",
       "      <th>HBP</th>\n",
       "      <th>SH</th>\n",
       "      <th>SF</th>\n",
       "      <th>GIDP</th>\n",
       "    </tr>\n",
       "  </thead>\n",
       "  <tbody>\n",
       "    <tr>\n",
       "      <th>0</th>\n",
       "      <td>abercda01</td>\n",
       "      <td>1871</td>\n",
       "      <td>1</td>\n",
       "      <td>TRO</td>\n",
       "      <td>NaN</td>\n",
       "      <td>1</td>\n",
       "      <td>4.0</td>\n",
       "      <td>0.0</td>\n",
       "      <td>0.0</td>\n",
       "      <td>0.0</td>\n",
       "      <td>...</td>\n",
       "      <td>0.0</td>\n",
       "      <td>0.0</td>\n",
       "      <td>0.0</td>\n",
       "      <td>0.0</td>\n",
       "      <td>0.0</td>\n",
       "      <td>NaN</td>\n",
       "      <td>NaN</td>\n",
       "      <td>NaN</td>\n",
       "      <td>NaN</td>\n",
       "      <td>NaN</td>\n",
       "    </tr>\n",
       "    <tr>\n",
       "      <th>1</th>\n",
       "      <td>addybo01</td>\n",
       "      <td>1871</td>\n",
       "      <td>1</td>\n",
       "      <td>RC1</td>\n",
       "      <td>NaN</td>\n",
       "      <td>25</td>\n",
       "      <td>118.0</td>\n",
       "      <td>30.0</td>\n",
       "      <td>32.0</td>\n",
       "      <td>6.0</td>\n",
       "      <td>...</td>\n",
       "      <td>13.0</td>\n",
       "      <td>8.0</td>\n",
       "      <td>1.0</td>\n",
       "      <td>4.0</td>\n",
       "      <td>0.0</td>\n",
       "      <td>NaN</td>\n",
       "      <td>NaN</td>\n",
       "      <td>NaN</td>\n",
       "      <td>NaN</td>\n",
       "      <td>NaN</td>\n",
       "    </tr>\n",
       "    <tr>\n",
       "      <th>2</th>\n",
       "      <td>allisar01</td>\n",
       "      <td>1871</td>\n",
       "      <td>1</td>\n",
       "      <td>CL1</td>\n",
       "      <td>NaN</td>\n",
       "      <td>29</td>\n",
       "      <td>137.0</td>\n",
       "      <td>28.0</td>\n",
       "      <td>40.0</td>\n",
       "      <td>4.0</td>\n",
       "      <td>...</td>\n",
       "      <td>19.0</td>\n",
       "      <td>3.0</td>\n",
       "      <td>1.0</td>\n",
       "      <td>2.0</td>\n",
       "      <td>5.0</td>\n",
       "      <td>NaN</td>\n",
       "      <td>NaN</td>\n",
       "      <td>NaN</td>\n",
       "      <td>NaN</td>\n",
       "      <td>NaN</td>\n",
       "    </tr>\n",
       "    <tr>\n",
       "      <th>3</th>\n",
       "      <td>allisdo01</td>\n",
       "      <td>1871</td>\n",
       "      <td>1</td>\n",
       "      <td>WS3</td>\n",
       "      <td>NaN</td>\n",
       "      <td>27</td>\n",
       "      <td>133.0</td>\n",
       "      <td>28.0</td>\n",
       "      <td>44.0</td>\n",
       "      <td>10.0</td>\n",
       "      <td>...</td>\n",
       "      <td>27.0</td>\n",
       "      <td>1.0</td>\n",
       "      <td>1.0</td>\n",
       "      <td>0.0</td>\n",
       "      <td>2.0</td>\n",
       "      <td>NaN</td>\n",
       "      <td>NaN</td>\n",
       "      <td>NaN</td>\n",
       "      <td>NaN</td>\n",
       "      <td>NaN</td>\n",
       "    </tr>\n",
       "    <tr>\n",
       "      <th>4</th>\n",
       "      <td>ansonca01</td>\n",
       "      <td>1871</td>\n",
       "      <td>1</td>\n",
       "      <td>RC1</td>\n",
       "      <td>NaN</td>\n",
       "      <td>25</td>\n",
       "      <td>120.0</td>\n",
       "      <td>29.0</td>\n",
       "      <td>39.0</td>\n",
       "      <td>11.0</td>\n",
       "      <td>...</td>\n",
       "      <td>16.0</td>\n",
       "      <td>6.0</td>\n",
       "      <td>2.0</td>\n",
       "      <td>2.0</td>\n",
       "      <td>1.0</td>\n",
       "      <td>NaN</td>\n",
       "      <td>NaN</td>\n",
       "      <td>NaN</td>\n",
       "      <td>NaN</td>\n",
       "      <td>NaN</td>\n",
       "    </tr>\n",
       "  </tbody>\n",
       "</table>\n",
       "<p>5 rows × 22 columns</p>\n",
       "</div>"
      ],
      "text/plain": [
       "    playerID  yearID  stint teamID lgID   G     AB     R     H    2B  ...   \\\n",
       "0  abercda01    1871      1    TRO  NaN   1    4.0   0.0   0.0   0.0  ...    \n",
       "1   addybo01    1871      1    RC1  NaN  25  118.0  30.0  32.0   6.0  ...    \n",
       "2  allisar01    1871      1    CL1  NaN  29  137.0  28.0  40.0   4.0  ...    \n",
       "3  allisdo01    1871      1    WS3  NaN  27  133.0  28.0  44.0  10.0  ...    \n",
       "4  ansonca01    1871      1    RC1  NaN  25  120.0  29.0  39.0  11.0  ...    \n",
       "\n",
       "    RBI   SB   CS   BB   SO  IBB  HBP  SH  SF  GIDP  \n",
       "0   0.0  0.0  0.0  0.0  0.0  NaN  NaN NaN NaN   NaN  \n",
       "1  13.0  8.0  1.0  4.0  0.0  NaN  NaN NaN NaN   NaN  \n",
       "2  19.0  3.0  1.0  2.0  5.0  NaN  NaN NaN NaN   NaN  \n",
       "3  27.0  1.0  1.0  0.0  2.0  NaN  NaN NaN NaN   NaN  \n",
       "4  16.0  6.0  2.0  2.0  1.0  NaN  NaN NaN NaN   NaN  \n",
       "\n",
       "[5 rows x 22 columns]"
      ]
     },
     "execution_count": 296,
     "metadata": {},
     "output_type": "execute_result"
    }
   ],
   "source": [
    "batting.head()"
   ]
  },
  {
   "cell_type": "markdown",
   "metadata": {},
   "source": [
    "### 1.\n",
    "#### Filling the data\n",
    "As we can see there are some NaNs in the data set, so we decided to fill these blanks with 0 so we can make complete calculations. The fill with 0 is because we can understand that if a player has a record here he must have done something."
   ]
  },
  {
   "cell_type": "code",
   "execution_count": 297,
   "metadata": {
    "collapsed": false
   },
   "outputs": [
    {
     "data": {
      "text/plain": [
       "101332"
      ]
     },
     "execution_count": 297,
     "metadata": {},
     "output_type": "execute_result"
    }
   ],
   "source": [
    "len(batting)"
   ]
  },
  {
   "cell_type": "code",
   "execution_count": 298,
   "metadata": {
    "collapsed": true
   },
   "outputs": [],
   "source": [
    "batting_filled = batting.fillna(value=0)"
   ]
  },
  {
   "cell_type": "code",
   "execution_count": 299,
   "metadata": {
    "collapsed": false
   },
   "outputs": [
    {
     "data": {
      "text/plain": [
       "playerID     object\n",
       "yearID        int64\n",
       "stint         int64\n",
       "teamID       object\n",
       "lgID         object\n",
       "G             int64\n",
       "AB          float64\n",
       "R           float64\n",
       "H           float64\n",
       "2B          float64\n",
       "3B          float64\n",
       "HR          float64\n",
       "RBI         float64\n",
       "SB          float64\n",
       "CS          float64\n",
       "BB          float64\n",
       "SO          float64\n",
       "IBB         float64\n",
       "HBP         float64\n",
       "SH          float64\n",
       "SF          float64\n",
       "GIDP        float64\n",
       "dtype: object"
      ]
     },
     "execution_count": 299,
     "metadata": {},
     "output_type": "execute_result"
    }
   ],
   "source": [
    "# Lets check the different types of the dataset we are using\n",
    "batting_filled.dtypes"
   ]
  },
  {
   "cell_type": "markdown",
   "metadata": {},
   "source": [
    "#### What is the mean of the batting of the whole dataset and who has had the best season in history?\n",
    "Thanks to information provided we have learnt that the batting average is calculated by dividing the H varible (number of hits) by the AB varible (number of times stepped up to the plate)  "
   ]
  },
  {
   "cell_type": "code",
   "execution_count": 300,
   "metadata": {
    "collapsed": false
   },
   "outputs": [
    {
     "data": {
      "text/plain": [
       "0.2090245512805901"
      ]
     },
     "execution_count": 300,
     "metadata": {},
     "output_type": "execute_result"
    }
   ],
   "source": [
    "# trying out some basic funtionc of Pandas Data Frame\n",
    "(batting_filled['H']/batting_filled['AB']).mean()"
   ]
  },
  {
   "cell_type": "code",
   "execution_count": 301,
   "metadata": {
    "collapsed": false
   },
   "outputs": [
    {
     "data": {
      "text/plain": [
       "1.0"
      ]
     },
     "execution_count": 301,
     "metadata": {},
     "output_type": "execute_result"
    }
   ],
   "source": [
    "(batting_filled['H']/batting_filled['AB']).max()"
   ]
  },
  {
   "cell_type": "code",
   "execution_count": 302,
   "metadata": {
    "collapsed": false
   },
   "outputs": [
    {
     "data": {
      "text/plain": [
       "playerID    snowch01\n",
       "yearID          1874\n",
       "stint              1\n",
       "teamID           BR2\n",
       "lgID               0\n",
       "G                  1\n",
       "AB                 1\n",
       "R                  0\n",
       "H                  1\n",
       "2B                 0\n",
       "3B                 0\n",
       "HR                 0\n",
       "RBI                0\n",
       "SB                 0\n",
       "CS                 0\n",
       "BB                 0\n",
       "SO                 0\n",
       "IBB                0\n",
       "HBP                0\n",
       "SH                 0\n",
       "SF                 0\n",
       "GIDP               0\n",
       "Name: 500, dtype: object"
      ]
     },
     "execution_count": 302,
     "metadata": {},
     "output_type": "execute_result"
    }
   ],
   "source": [
    "batting_filled.iloc[(batting_filled['H']/batting_filled['AB']).argmax()]"
   ]
  },
  {
   "cell_type": "markdown",
   "metadata": {},
   "source": [
    "The calculations here have been done as if every entry was a different player. However, as we saw during the investigation of the data, there are several entries for the same player depending on the year player and sometimes changing the team too. In the next entries we will investigate different ways of treating the data, given that this way doesnt show the players development through the years"
   ]
  },
  {
   "cell_type": "markdown",
   "metadata": {},
   "source": [
    "##### what is the mean batting for a player?"
   ]
  },
  {
   "cell_type": "code",
   "execution_count": 303,
   "metadata": {
    "collapsed": false
   },
   "outputs": [],
   "source": [
    "# Lets goup our data so every entry is a player\n",
    "batting_group_player = batting_filled.groupby(['playerID'])"
   ]
  },
  {
   "cell_type": "code",
   "execution_count": 304,
   "metadata": {
    "collapsed": false
   },
   "outputs": [
    {
     "data": {
      "text/plain": [
       "18659"
      ]
     },
     "execution_count": 304,
     "metadata": {},
     "output_type": "execute_result"
    }
   ],
   "source": [
    "len(batting_group_player)"
   ]
  },
  {
   "cell_type": "code",
   "execution_count": 305,
   "metadata": {
    "collapsed": false
   },
   "outputs": [],
   "source": [
    "player_means = batting_group_player['H'].mean() / batting_group_player['AB'].mean()"
   ]
  },
  {
   "cell_type": "code",
   "execution_count": 306,
   "metadata": {
    "collapsed": false
   },
   "outputs": [
    {
     "data": {
      "text/plain": [
       "0.1907916282071391"
      ]
     },
     "execution_count": 306,
     "metadata": {},
     "output_type": "execute_result"
    }
   ],
   "source": [
    "player_means.mean()"
   ]
  },
  {
   "cell_type": "markdown",
   "metadata": {},
   "source": [
    "#### Conlusion \n",
    "Here we see that the difference between the mean of the sseason and the mean of the player are pretty close, about 0.01 difference, so we realize that the average of one season is as affected by the bad seasons of a player as the ones based of whole players. "
   ]
  },
  {
   "cell_type": "markdown",
   "metadata": {},
   "source": [
    "##### Who has the best batting score in history?"
   ]
  },
  {
   "cell_type": "code",
   "execution_count": 307,
   "metadata": {
    "collapsed": false
   },
   "outputs": [],
   "source": [
    "maximum_batter = player_means.argmax()"
   ]
  },
  {
   "cell_type": "code",
   "execution_count": 308,
   "metadata": {
    "collapsed": false
   },
   "outputs": [
    {
     "data": {
      "text/html": [
       "<div>\n",
       "<table border=\"1\" class=\"dataframe\">\n",
       "  <thead>\n",
       "    <tr style=\"text-align: right;\">\n",
       "      <th></th>\n",
       "      <th>playerID</th>\n",
       "      <th>yearID</th>\n",
       "      <th>stint</th>\n",
       "      <th>teamID</th>\n",
       "      <th>lgID</th>\n",
       "      <th>G</th>\n",
       "      <th>AB</th>\n",
       "      <th>R</th>\n",
       "      <th>H</th>\n",
       "      <th>2B</th>\n",
       "      <th>...</th>\n",
       "      <th>RBI</th>\n",
       "      <th>SB</th>\n",
       "      <th>CS</th>\n",
       "      <th>BB</th>\n",
       "      <th>SO</th>\n",
       "      <th>IBB</th>\n",
       "      <th>HBP</th>\n",
       "      <th>SH</th>\n",
       "      <th>SF</th>\n",
       "      <th>GIDP</th>\n",
       "    </tr>\n",
       "  </thead>\n",
       "  <tbody>\n",
       "    <tr>\n",
       "      <th>19684</th>\n",
       "      <td>abramge01</td>\n",
       "      <td>1923</td>\n",
       "      <td>1</td>\n",
       "      <td>CIN</td>\n",
       "      <td>NL</td>\n",
       "      <td>3</td>\n",
       "      <td>1.0</td>\n",
       "      <td>0.0</td>\n",
       "      <td>1.0</td>\n",
       "      <td>0.0</td>\n",
       "      <td>...</td>\n",
       "      <td>0.0</td>\n",
       "      <td>0.0</td>\n",
       "      <td>0.0</td>\n",
       "      <td>0.0</td>\n",
       "      <td>0.0</td>\n",
       "      <td>0.0</td>\n",
       "      <td>0.0</td>\n",
       "      <td>0.0</td>\n",
       "      <td>0.0</td>\n",
       "      <td>0.0</td>\n",
       "    </tr>\n",
       "  </tbody>\n",
       "</table>\n",
       "<p>1 rows × 22 columns</p>\n",
       "</div>"
      ],
      "text/plain": [
       "        playerID  yearID  stint teamID lgID  G   AB    R    H   2B  ...   RBI  \\\n",
       "19684  abramge01    1923      1    CIN   NL  3  1.0  0.0  1.0  0.0  ...   0.0   \n",
       "\n",
       "        SB   CS   BB   SO  IBB  HBP   SH   SF  GIDP  \n",
       "19684  0.0  0.0  0.0  0.0  0.0  0.0  0.0  0.0   0.0  \n",
       "\n",
       "[1 rows x 22 columns]"
      ]
     },
     "execution_count": 308,
     "metadata": {},
     "output_type": "execute_result"
    }
   ],
   "source": [
    "# Showing the carreer of the player\n",
    "batting_filled.loc[batting_filled['playerID'] == maximum_batter]"
   ]
  },
  {
   "cell_type": "markdown",
   "metadata": {},
   "source": [
    "As we can see the player with the best batting scores in history is abramge01 wich thanks to some research we found out that it referred to George Abrams. As we can see it is easy for him to be the best given that he only played 3 times and in those game only bat once with a hit."
   ]
  },
  {
   "cell_type": "markdown",
   "metadata": {},
   "source": [
    "#### Conclusions\n",
    "As we can se with this dataset we have been able to see different aspects of the batting but we have to realize that having the best batting score doesnt mean that you are the best baseball player. Given the fact those battings that end up in no bases or points acomplished are also taken into account like when the ball doenst land in fair territory.\n",
    "So in the next cells we will be ansering multiple questions now based on the bases and homeruns achieved."
   ]
  },
  {
   "cell_type": "markdown",
   "metadata": {},
   "source": [
    "### 2. \n",
    "In our data we have three columns that gives us insight about the players ability to bat. The first one is H which counts all the hits that ended up in winning one base. The second is the 2B column wich specfies the number of times the player has achieved a 2 base hit, the same goes for the 3B for 3 base hit. Finally we have the HR variable wich has all the homeruns achieved by the player"
   ]
  },
  {
   "cell_type": "markdown",
   "metadata": {},
   "source": [
    "In order to stablish a ranking system to see who is the best player, we have decided to give different weights to each of the previous variables. the rule we are going to apply is the following: \n",
    "hx1 + 2bx2 + 3bx3 + hrx4\n",
    "I think this should give us a really good insight about the performace of the players throught the years"
   ]
  },
  {
   "cell_type": "code",
   "execution_count": 309,
   "metadata": {
    "collapsed": false
   },
   "outputs": [],
   "source": [
    "# calculate the formula stated before\n",
    "batting_ability = batting_filled['H'] + batting_filled['2B']*2 + batting_filled['3B']*3 + batting_filled['HR']*4\n",
    "#Lets add a new column to our dataframe\n",
    "batting_filled['ability'] = pd.Series(batting_ability, index=batting_filled)"
   ]
  },
  {
   "cell_type": "code",
   "execution_count": 310,
   "metadata": {
    "collapsed": false
   },
   "outputs": [],
   "source": [
    "# Now fill it with the calculated data\n",
    "batting_filled['ability'] = batting_ability"
   ]
  },
  {
   "cell_type": "code",
   "execution_count": 311,
   "metadata": {
    "collapsed": false,
    "scrolled": true
   },
   "outputs": [
    {
     "name": "stdout",
     "output_type": "stream",
     "text": [
      "the best player is pujolal01 with and score of 408.0, he played from 2001 to 2015\n",
      "Probably he is still playing\n"
     ]
    }
   ],
   "source": [
    "# group by each player\n",
    "batting_player = batting_filled.groupby(['playerID'])\n",
    "# now we calculate the means of every player\n",
    "batting_player_means = batting_player['ability'].mean()\n",
    "# now we get the years played by the player with the best mean\n",
    "years = list(batting_player['yearID'].get_group(batting_player_means.argmax()))\n",
    "#now we get the start and end of his carreer\n",
    "start = years[0]\n",
    "end = years[len(years)-1]\n",
    "print \"the best player is \" + batting_player_means.argmax() + \" with and score of \" + str(batting_player_means.max()) + \", he played from \" + str(start) + \" to \" +  str(end)\n",
    "if end == 2015:\n",
    "    print \"Probably he is still playing\""
   ]
  },
  {
   "cell_type": "code",
   "execution_count": 312,
   "metadata": {
    "collapsed": false
   },
   "outputs": [
    {
     "data": {
      "text/plain": [
       "36.07847294868628"
      ]
     },
     "execution_count": 312,
     "metadata": {},
     "output_type": "execute_result"
    }
   ],
   "source": [
    "# Now we see the mean of all of the players\n",
    "batting_player_means.mean()"
   ]
  },
  {
   "cell_type": "code",
   "execution_count": 313,
   "metadata": {
    "collapsed": false
   },
   "outputs": [
    {
     "name": "stdout",
     "output_type": "stream",
     "text": [
      "Populating the interactive namespace from numpy and matplotlib\n"
     ]
    },
    {
     "data": {
      "text/plain": [
       "<matplotlib.text.Text at 0x7fe59350c250>"
      ]
     },
     "execution_count": 313,
     "metadata": {},
     "output_type": "execute_result"
    },
    {
     "data": {
      "image/png": "[encoded data removed]",
      "text/plain": [
       "<matplotlib.figure.Figure at 0x7fe598f27550>"
      ]
     },
     "metadata": {},
     "output_type": "display_data"
    }
   ],
   "source": [
    "%pylab inline\n",
    "batting_player_means.hist()\n",
    "plt.xlabel('Score of the player')\n",
    "plt.ylabel('Number of players')\n",
    "plt.title('Histogram of the number of players with each score')\n",
    "#TODO add the title and axes of the graphs"
   ]
  },
  {
   "cell_type": "code",
   "execution_count": 314,
   "metadata": {
    "collapsed": false
   },
   "outputs": [
    {
     "data": {
      "text/plain": [
       "18659"
      ]
     },
     "execution_count": 314,
     "metadata": {},
     "output_type": "execute_result"
    }
   ],
   "source": [
    "# we check if the graph has sense given the number of players\n",
    "len(batting_player_means)"
   ]
  },
  {
   "cell_type": "markdown",
   "metadata": {},
   "source": [
    "#### Conlusion\n",
    "Thanks to this histogram we can see the great difference between the mean and the maximum. As we expected if we give some thought to the game there are a lot of \"normal level\" players and there are some exceptional ones, as the histogram shows us.The graph is decresing with a drastical drop at the start and then a steady drop"
   ]
  },
  {
   "cell_type": "markdown",
   "metadata": {},
   "source": [
    "### 3. \n",
    "This time instead of repeating all the previous calculations we are going to be focusing on the preformance of the player or team. We also want to make some comparations between the performace of the teams along the years in order to discover if those teams now considered \"the best\" have always been or if it changes during time."
   ]
  },
  {
   "cell_type": "markdown",
   "metadata": {},
   "source": [
    "From now on we are going to focus solely in the National Leage of baseball given that those are the teams from which I wish to learn and understand"
   ]
  },
  {
   "cell_type": "markdown",
   "metadata": {},
   "source": [
    "#### Which team has the best ability value?"
   ]
  },
  {
   "cell_type": "code",
   "execution_count": 315,
   "metadata": {
    "collapsed": false
   },
   "outputs": [],
   "source": [
    "# From the whole data we separate just the players from the National League\n",
    "batting_NL = batting_filled.loc[lambda batting_filled: batting_filled.lgID == 'NL', :]\n",
    "# Once we have the players from the National League we group it by teams\n",
    "batting_team = batting_NL.groupby(['teamID'])"
   ]
  },
  {
   "cell_type": "markdown",
   "metadata": {},
   "source": [
    "Lets see some basic information of the data like number of teams"
   ]
  },
  {
   "cell_type": "code",
   "execution_count": 316,
   "metadata": {
    "collapsed": false
   },
   "outputs": [
    {
     "name": "stdout",
     "output_type": "stream",
     "text": [
      "Number of teams: 44\n",
      "Average ability of the teams: 64.2244113358\n",
      "Best team in history: BLN With a value of: 95.2864583333\n"
     ]
    }
   ],
   "source": [
    "# Now we check the mean of our ability data\n",
    "batting_team_mean = batting_team['ability'].mean()\n",
    "print \"Number of teams: \" + str(len(batting_team_mean))\n",
    "print \"Average ability of the teams: \" + str(batting_team_mean.mean())\n",
    "print \"Best team in history: \" + batting_team_mean.argmax() + \" With a value of: \" + str(batting_team_mean.max())"
   ]
  },
  {
   "cell_type": "code",
   "execution_count": 317,
   "metadata": {
    "collapsed": false
   },
   "outputs": [
    {
     "data": {
      "text/plain": [
       "yearID\n",
       "1892     57.162162\n",
       "1893     79.000000\n",
       "1894    138.550000\n",
       "1895    118.350000\n",
       "1896    107.000000\n",
       "1897    117.200000\n",
       "1898     90.458333\n",
       "1899     91.583333\n",
       "Name: ability, dtype: float64"
      ]
     },
     "execution_count": 317,
     "metadata": {},
     "output_type": "execute_result"
    }
   ],
   "source": [
    "#lets try now to see the the progression of this team throught his years \n",
    "batting_team_BLN = batting_team.get_group(batting_team_mean.argmax())\n",
    "batting_team_BLN_year = batting_team_BLN.groupby(['yearID'])\n",
    "batting_team_BLN_year_mean = batting_team_BLN_year['ability'].mean()\n",
    "batting_team_BLN_year_mean"
   ]
  },
  {
   "cell_type": "code",
   "execution_count": 318,
   "metadata": {
    "collapsed": false
   },
   "outputs": [
    {
     "name": "stdout",
     "output_type": "stream",
     "text": [
      "Populating the interactive namespace from numpy and matplotlib\n"
     ]
    },
    {
     "data": {
      "text/plain": [
       "([<matplotlib.axis.XTick at 0x7fe598f52450>,\n",
       "  <matplotlib.axis.XTick at 0x7fe598c89390>,\n",
       "  <matplotlib.axis.XTick at 0x7fe598bfbb50>,\n",
       "  <matplotlib.axis.XTick at 0x7fe598bbeb50>,\n",
       "  <matplotlib.axis.XTick at 0x7fe598bc8310>,\n",
       "  <matplotlib.axis.XTick at 0x7fe598bc8a90>,\n",
       "  <matplotlib.axis.XTick at 0x7fe598bd1250>,\n",
       "  <matplotlib.axis.XTick at 0x7fe598bd19d0>],\n",
       " <a list of 8 Text xticklabel objects>)"
      ]
     },
     "execution_count": 318,
     "metadata": {},
     "output_type": "execute_result"
    },
    {
     "data": {
      "image/png": "[encoded data removed]",
      "text/plain": [
       "<matplotlib.figure.Figure at 0x7fe599115f90>"
      ]
     },
     "metadata": {},
     "output_type": "display_data"
    }
   ],
   "source": [
    "# Now we need to show this information in a graph\n",
    "%pylab inline\n",
    "index = np.arange(len(batting_team_BLN_year_mean))\n",
    "bar_width = 0.5\n",
    "index_graph = (1, 2, 3, 4, 5, 6, 7, 8)\n",
    "opacity = 0.4\n",
    "error_config = {'ecolor': '0.3'}\n",
    "plt.bar(index, batting_team_BLN_year_mean, bar_width,\n",
    "                 alpha=opacity,\n",
    "                 color='b',\n",
    "                 yerr=index_graph,\n",
    "                 error_kw=error_config,\n",
    "                 label='year')\n",
    "plt.xlabel('Years')\n",
    "plt.ylabel('Ability Mean')\n",
    "plt.title('Baltimore Orioles progress throgh their carreer')\n",
    "plt.xticks(index + bar_width/2, batting_team_BLN_year_mean.index)"
   ]
  },
  {
   "cell_type": "markdown",
   "metadata": {},
   "source": [
    "#### Is there any relationship between the homeruns and the different bases of the teams in the National League?"
   ]
  },
  {
   "cell_type": "code",
   "execution_count": 319,
   "metadata": {
    "collapsed": false
   },
   "outputs": [],
   "source": [
    "# we are going to try one simple comparation of the means of the 2 bases, 3 bases and homeruns \n",
    "# of every player in the National League\n",
    "def mean_bases(dataset):\n",
    "    mean_list = []\n",
    "    mean_list.append(dataset['2B'].mean())\n",
    "    mean_list.append(dataset['3B'].mean())\n",
    "    mean_list.append(dataset['HR'].mean())\n",
    "    return mean_list"
   ]
  },
  {
   "cell_type": "code",
   "execution_count": 320,
   "metadata": {
    "collapsed": false
   },
   "outputs": [
    {
     "name": "stdout",
     "output_type": "stream",
     "text": [
      "Populating the interactive namespace from numpy and matplotlib\n"
     ]
    },
    {
     "data": {
      "text/plain": [
       "([<matplotlib.axis.XTick at 0x7fe5998662d0>,\n",
       "  <matplotlib.axis.XTick at 0x7fe598ba8a90>,\n",
       "  <matplotlib.axis.XTick at 0x7fe598b64890>],\n",
       " <a list of 3 Text xticklabel objects>)"
      ]
     },
     "execution_count": 320,
     "metadata": {},
     "output_type": "execute_result"
    },
    {
     "data": {
      "image/png": "[encoded data removed]",
      "text/plain": [
       "<matplotlib.figure.Figure at 0x7fe598cbe5d0>"
      ]
     },
     "metadata": {},
     "output_type": "display_data"
    }
   ],
   "source": [
    "%pylab inline\n",
    "\n",
    "mean_hist = mean_bases(batting_NL)\n",
    "index = np.arange(len(mean_hist))\n",
    "bar_width = 0.3\n",
    "index_graph = range(len(mean_hist))\n",
    "opacity = 0.4\n",
    "error_config = {'ecolor': '0.3'}\n",
    "plt.bar(index, mean_hist, bar_width,\n",
    "                 alpha=opacity,\n",
    "                 color='b',\n",
    "                 yerr=index_graph,\n",
    "                 error_kw=error_config)\n",
    "plt.xlabel('Type')\n",
    "plt.ylabel('Variable Mean')\n",
    "plt.title('2, 3 bases and Homeruns comparation')\n",
    "plt.xticks(index + bar_width/2, ['2B', '3B', 'HR'])"
   ]
  },
  {
   "cell_type": "markdown",
   "metadata": {},
   "source": [
    "#### Conclusions\n",
    "As we expected there has been a greater number of 2 base hits than 3 base hits. However it seems curious that there has been more homeruns on average the 3 base hits. This raises the question of how does it compare to the means of the best team of the league, which we found out it was the Baltimore Orioles"
   ]
  },
  {
   "cell_type": "markdown",
   "metadata": {},
   "source": [
    "#### How does the previous data compare to the Baltimore Orioles team (the best team in the National Leagues history)?"
   ]
  },
  {
   "cell_type": "code",
   "execution_count": 321,
   "metadata": {
    "collapsed": false
   },
   "outputs": [
    {
     "data": {
      "text/plain": [
       "[8.53125, 3.90625, 0.96875]"
      ]
     },
     "execution_count": 321,
     "metadata": {},
     "output_type": "execute_result"
    }
   ],
   "source": [
    "mean_bases(batting_team_BLN)"
   ]
  },
  {
   "cell_type": "code",
   "execution_count": 322,
   "metadata": {
    "collapsed": false
   },
   "outputs": [
    {
     "name": "stdout",
     "output_type": "stream",
     "text": [
      "Populating the interactive namespace from numpy and matplotlib\n"
     ]
    },
    {
     "data": {
      "text/plain": [
       "<matplotlib.legend.Legend at 0x7fe598af9190>"
      ]
     },
     "execution_count": 322,
     "metadata": {},
     "output_type": "execute_result"
    },
    {
     "data": {
      "image/png": "[encoded data removed]",
      "text/plain": [
       "<matplotlib.figure.Figure at 0x7fe599844fd0>"
      ]
     },
     "metadata": {},
     "output_type": "display_data"
    }
   ],
   "source": [
    "%pylab inline\n",
    "index = np.arange(3)\n",
    "bar_width = 0.3\n",
    "index_graph = range(3)\n",
    "opacity = 0.4\n",
    "error_config = {'ecolor': '0.3'}\n",
    "mean_hist_BLN = mean_bases(batting_team_BLN)\n",
    "fig, ax = plt.subplots()\n",
    "nl = ax.bar(index, mean_hist, bar_width,\n",
    "                 alpha=opacity,\n",
    "                 color='b',\n",
    "                 yerr=index_graph,\n",
    "                 error_kw=error_config,\n",
    "                 label='year')\n",
    "bln = ax.bar(index+bar_width, mean_hist_BLN, bar_width,\n",
    "                 alpha=opacity,\n",
    "                 color='r',\n",
    "                 yerr=index_graph,\n",
    "                 error_kw=error_config,\n",
    "                 label='year')\n",
    "\n",
    "ax.set_ylabel('Variable Mean')\n",
    "ax.set_title('2, 3 bases and Homeruns comparation. \\n National League vs Baltimore Orioles')\n",
    "ax.set_xticks(index + bar_width)\n",
    "ax.set_xticklabels(['2B', '3B', 'HR'])\n",
    "ax.legend((nl[0], bln[0]), ('National League', 'Baltimore Orioles'))"
   ]
  },
  {
   "cell_type": "markdown",
   "metadata": {},
   "source": [
    "#### Conlusions\n",
    "Here we can see the difference between the means of 2B, 3B and HR of the whole National League and the Baltimore Orioles. We see a considerable difference in all three aspects. Surprisingly they have a lesser average in homeruns but a great cuantity of 2 bases and 3 bases. This shows us that to be the best team you dont have to make all homeruns, but a great cuantity of 2 and 3 bases."
   ]
  },
  {
   "cell_type": "markdown",
   "metadata": {},
   "source": [
    "Once we were able to determine which team has had the best performace I find curious to konw that this team was disasembled 27 years ago, so it raised the question of\n",
    "#### What team has been in the national leage for the longest time?"
   ]
  },
  {
   "cell_type": "code",
   "execution_count": 323,
   "metadata": {
    "collapsed": false
   },
   "outputs": [],
   "source": [
    "maxim = -1\n",
    "max_team = 0\n",
    "# Frist we get only the columns of the teams and years\n",
    "aux_batting_team = batting_NL[['teamID', 'yearID']]\n",
    "# We remove the duplicates\n",
    "aux_batting_team = aux_batting_team.drop_duplicates()\n",
    "#Once the data is clean we group it by team\n",
    "aux_batting_team = aux_batting_team.groupby(['teamID'])\n",
    "# Now we apply the len function in order to get the lengths of every array of the years created thanks to the group by\n",
    "# So we will obtain a series with the name of the team and the number of years played \n",
    "years_played = aux_batting_team.apply(len)\n",
    "maxim = years_played.max()\n",
    "max_team = years_played.argmax()"
   ]
  },
  {
   "cell_type": "code",
   "execution_count": 324,
   "metadata": {
    "collapsed": false
   },
   "outputs": [
    {
     "name": "stdout",
     "output_type": "stream",
     "text": [
      "The CHN team has been in the league for 140 years\n",
      "They started in 1876\n",
      "and probably they will be for even more years\n"
     ]
    }
   ],
   "source": [
    "print \"The \" + max_team + \" team has been in the league for \" + str(maxim) + \" years\"\n",
    "years = list(batting_team['yearID'].get_group(max_team))\n",
    "print \"They started in \" + str(years[0])\n",
    "if years[len(years)-1] == 2015:\n",
    "    print \"and probably they will be for even more years\""
   ]
  },
  {
   "cell_type": "code",
   "execution_count": 325,
   "metadata": {
    "collapsed": false
   },
   "outputs": [],
   "source": [
    "# Now we want to see the progress of the team during its years in the National League\n",
    "\n",
    "batting_team_CHN = batting_team.get_group('CHN')\n",
    "batting_team_CHN_year = batting_team_CHN.groupby(['yearID'])\n",
    "batting_team_CHN_year_mean = batting_team_CHN_year['ability'].mean()\n",
    "# Given that the team has been for 140 years the histogram would be to hard to read so we are going to group the data in 10 year bins\n",
    "batting_team_CHN_ten_year = []\n",
    "i_control = 0\n",
    "mean_control = 0\n",
    "# first we calculate the mean in bins of 10\n",
    "for elem in batting_team_CHN_year_mean:\n",
    "    mean_control += elem\n",
    "    i_control += 1\n",
    "    if i_control == 9:\n",
    "        i_control = 0\n",
    "        batting_team_CHN_ten_year.append(mean_control/10)\n",
    "        mean_control = 0\n",
    "# We create the index list we will use for our data\n",
    "index_CHN = []\n",
    "a, b = pd.cut(index_list, 14, retbins=True, precision = 0)\n",
    "index_CHN = b.round()"
   ]
  },
  {
   "cell_type": "markdown",
   "metadata": {},
   "source": [
    "Due to the fact that the team has been in the league for 140, a graph showing all that performace could prove difficult to read, so in order to simplyfy we have group the data in ten-year intervals for a simplify bar graph"
   ]
  },
  {
   "cell_type": "code",
   "execution_count": 326,
   "metadata": {
    "collapsed": false
   },
   "outputs": [
    {
     "name": "stdout",
     "output_type": "stream",
     "text": [
      "Populating the interactive namespace from numpy and matplotlib\n",
      "Current size: [6.0, 4.0]\n"
     ]
    },
    {
     "data": {
      "text/plain": [
       "([<matplotlib.axis.XTick at 0x7fe59898e350>,\n",
       "  <matplotlib.axis.XTick at 0x7fe59898e190>,\n",
       "  <matplotlib.axis.XTick at 0x7fe598959050>,\n",
       "  <matplotlib.axis.XTick at 0x7fe5988be090>,\n",
       "  <matplotlib.axis.XTick at 0x7fe5988be810>,\n",
       "  <matplotlib.axis.XTick at 0x7fe5988bef90>,\n",
       "  <matplotlib.axis.XTick at 0x7fe5988c9750>,\n",
       "  <matplotlib.axis.XTick at 0x7fe5988c9ed0>,\n",
       "  <matplotlib.axis.XTick at 0x7fe5988d3690>,\n",
       "  <matplotlib.axis.XTick at 0x7fe5988d3e10>,\n",
       "  <matplotlib.axis.XTick at 0x7fe5988dc5d0>,\n",
       "  <matplotlib.axis.XTick at 0x7fe5988dcd50>,\n",
       "  <matplotlib.axis.XTick at 0x7fe5988e6510>,\n",
       "  <matplotlib.axis.XTick at 0x7fe5988e6c90>,\n",
       "  <matplotlib.axis.XTick at 0x7fe5988f0450>],\n",
       " <a list of 15 Text xticklabel objects>)"
      ]
     },
     "execution_count": 326,
     "metadata": {},
     "output_type": "execute_result"
    },
    {
     "data": {
      "image/png": "[encoded data removed]",
      "text/plain": [
       "<matplotlib.figure.Figure at 0x7fe599174090>"
      ]
     },
     "metadata": {},
     "output_type": "display_data"
    }
   ],
   "source": [
    "#Now we draw the graph\n",
    "%pylab inline\n",
    "index = np.arange(len(batting_team_CHN_year_mean)/10+1)\n",
    "bar_width = 0.5\n",
    "index_graph = range(len(batting_team_CHN_year_mean)/10+1)\n",
    "\n",
    "opacity = 0.4\n",
    "error_config = {'ecolor': '0.3'}\n",
    "# Here we check and change the size of the graph so it can be readable\n",
    "fig_size = plt.rcParams[\"figure.figsize\"]\n",
    "print \"Current size:\", fig_size\n",
    "fig_size[0] = 17\n",
    "fig_size[1] = 12\n",
    "plt.rcParams[\"figure.figsize\"] = fig_size\n",
    "# Plot ad stablish title and axis\n",
    "plt.bar(index, batting_team_CHN_ten_year, bar_width,\n",
    "                 alpha=opacity,\n",
    "                 color='b',\n",
    "                 yerr=index_graph,\n",
    "                 error_kw=error_config,\n",
    "                 label='year')\n",
    "plt.xlabel('Years')\n",
    "plt.ylabel('Ability Mean')\n",
    "plt.title('Chicago Cubs progress throgh their carreer')\n",
    "plt.xticks(index + bar_width/2, index_CHN)"
   ]
  },
  {
   "cell_type": "markdown",
   "metadata": {},
   "source": [
    "Thanks to some research we were able to show the development in ten year intervals. As we can see the peak was in their begings but they have been able to stay close to the average."
   ]
  },
  {
   "cell_type": "code",
   "execution_count": 327,
   "metadata": {
    "collapsed": false
   },
   "outputs": [
    {
     "name": "stdout",
     "output_type": "stream",
     "text": [
      "67.3811452065\n",
      "100.336734694\n",
      "1894\n"
     ]
    }
   ],
   "source": [
    "# Now we check out the performance of the player throught the years\n",
    "#first by grouping the national leage data by year\n",
    "batting_year = batting_NL.groupby(['yearID'])\n",
    "# Then we obtain the basic statistics\n",
    "batting_year_mean = batting_year['ability'].mean()\n",
    "print str(batting_year_mean.mean())\n",
    "print str(batting_year_mean.max())\n",
    "print str(batting_year_mean.argmax())"
   ]
  },
  {
   "cell_type": "code",
   "execution_count": 328,
   "metadata": {
    "collapsed": false
   },
   "outputs": [
    {
     "data": {
      "text/plain": [
       "<matplotlib.text.Text at 0x7fe59885af10>"
      ]
     },
     "execution_count": 328,
     "metadata": {},
     "output_type": "execute_result"
    },
    {
     "data": {
      "image/png": "[encoded data removed]",
      "text/plain": [
       "<matplotlib.figure.Figure at 0x7fe599431250>"
      ]
     },
     "metadata": {},
     "output_type": "display_data"
    }
   ],
   "source": [
    "# we plot the data so we can take a look\n",
    "batting_year_mean.plot()\n",
    "plt.xlabel('Years')\n",
    "plt.ylabel('Ability Mean')\n",
    "plt.title('National League Performace throught the years')"
   ]
  },
  {
   "cell_type": "markdown",
   "metadata": {},
   "source": [
    "Here we can see the development of the National League throught the years. Thanks to the previous mean we imagine the maximum to be around late 1980s. However seeing the graph we discover an acute drop near 1980, so we are going to look what is the minimum and take a look at the expanded data in order to find out why that happend"
   ]
  },
  {
   "cell_type": "code",
   "execution_count": 329,
   "metadata": {
    "collapsed": false
   },
   "outputs": [
    {
     "name": "stdout",
     "output_type": "stream",
     "text": [
      "42.4346846847\n",
      "1981\n"
     ]
    }
   ],
   "source": [
    "print str(batting_year_mean.min())\n",
    "print str(batting_year_mean.argmin())"
   ]
  },
  {
   "cell_type": "markdown",
   "metadata": {},
   "source": [
    "As we expected the worst year for baseball was in 1981 so far, with a mean for the year 42.43, although the global mean for baseball is 67.38. In order to see how possible is to for this results to repeat again we are going to use the standard deviation"
   ]
  },
  {
   "cell_type": "code",
   "execution_count": 330,
   "metadata": {
    "collapsed": false
   },
   "outputs": [
    {
     "name": "stdout",
     "output_type": "stream",
     "text": [
      "the 1981 result is 2.44 standard deviations from the mean\n"
     ]
    }
   ],
   "source": [
    "# Here we want to check how probable is to have another bad year\n",
    "# we start by calculating the standard deviation\n",
    "year_std = batting_year_mean.std()\n",
    "# Then we calculate how many standard deviation from the mean is that year\n",
    "std_from_mean = (batting_year_mean.mean() - batting_year_mean.min()) / year_std\n",
    "print \"the 1981 result is \" + str(std_from_mean.round(2)) + \" standard deviations from the mean\""
   ]
  },
  {
   "cell_type": "markdown",
   "metadata": {},
   "source": [
    "#### Conclusions\n",
    "Once we now the standard deviation from the mean we just have to take a look to the z table to see the probability of having another year like this one. Once we look in http://www.stat.ufl.edu/~athienit/Tables/Ztable.pdf we found out that the probability of having a year like this is 0.0073.\n",
    "So we can assume that the chance of having another year like this, based on our calculations, is really slim."
   ]
  },
  {
   "cell_type": "markdown",
   "metadata": {},
   "source": [
    "## Conclusion\n",
    "To conclude we have learned multiple things throught the realization of the project:\n",
    "1. Sumary\n",
    "    1. Working with the whole dataset:\n",
    "      * The best season a player has ever had was snowch01 in 1874 with a batting average of 1.0. This batting average was calculated by dividing H by the AB variable. It is safe to assume that there could be varius player with a 1.0 average. That could be a great future investigation of the data.\n",
    "      * we also compared the diferent batting average, one base in years and the other based on players. That comparation showed us that there is no meaningful difference between the two.\n",
    "      * Lastly we wanted to find out who is considered the best player of the dataset which was George Abrams. As we saw earlier this specific player only played for one season, so it raises the question if we should take into account the number of games or seasons played \n",
    "    2. Investigating with the ability feature by players in the National League:\n",
    "      * First we created the ability featured based in three previous features of the dataset as explained in the second part of the paper and then we decided to look for some basic information such as the mean and the best player.\n",
    "      * Once we got these data we wanted to see who the ability means distribute in a graph so we ploted a histogram, which showed us a decreasing graph with great difference between the mean and the maximum. \n",
    "    3. Batting by teams and/or years in the National League: \n",
    "      * First we look for the best team in the National League wich was the Baltimore Orioles\n",
    "      * Once we had that we decided to look a little bit further into the ability feature by examinating each of the features by itself and visualize it in a bar graph. It showed us that there has been more homeruns that 3 base hits, all thanks to the means of every team in the National League\n",
    "      * So once we had the best team and the variables defined we want to compare both in order to understand how the baltimore orioles had managed to become the best team in history. Once we got the barr graph compraring the two data we can conclude that eventhough the homerun is the best move you can do in a game, is not entirely necesary in order to be the best. Due to the fact that the average homeruns for the Baltimore Orioles is lesser than the average of the entire National League.\n",
    "      * Then we found out which team has been playing in the National Legue the longest and decided to visualize these data in a histogram to see in an easy way the progression of the team throught the years. We had to pack in bins of 10 due to the fact that the team has been played for the las 140 years.\n",
    "      * Finally we wanted to see an overall performce of the National Legue throught the years. We noticed a sudden drop in the grap and decided to investigate the probabolity of it happening again.\n",
    "      * Thanks to the z-scores we are able to calculate such probabilities wich it showed that a season like that repeating again is pretty slim.\n",
    "2. Limitations\n",
    "The first thing we had to do in order to be able to do the calculations was to fill the NaN with 0. Which is a big risk given that we are contaminating the data but we dont know why this data was empty, maybe it wasnt recorded or it was just 0. \n",
    "One of the biggest limitations when working with this dataset, was my own understanding of baseball. Given that i didnt know anything about this game so i needed to learn as much as i could not only of the game but about all the math behind it\n",
    "3. Future research\n",
    "As we have previously asked we could give some thought about how the number of games and seasons played affect some of the statistics such as the best season for a player or the best player, because as we have seen the best player shown was one who only played one season.\n",
    "Also we could look into the different leagues and see how they compare to one another. Or to see if any of the players have been switching between leagues during their carreers."
   ]
  },
  {
   "cell_type": "markdown",
   "metadata": {},
   "source": [
    "## Bilbliography\n",
    "\n",
    "* z-table : http://www.stat.ufl.edu/~athienit/Tables/Ztable.pdf\n",
    "* standard deviation : http://pandas.pydata.org/pandas-docs/stable/generated/pandas.DataFrame.std.html\n",
    "* round : http://pandas.pydata.org/pandas-docs/stable/generated/pandas.DataFrame.round.html\n",
    "* change size of plot : https://codeyarns.com/2014/10/27/how-to-change-size-of-matplotlib-plot/\n",
    "* plot bar: http://matplotlib.org/examples/api/barchart_demo.html\n",
    "* team abbreviations : https://www.reddit.com/r/baseball/comments/3t97mi/team_abbreviations/\n",
    "* baltimore orioles : http://www.baseball-reference.com/teams/BLN/1895.shtml\n",
    "* group_by itearte : http://stackoverflow.com/questions/27405483/how-to-loop-over-grouped-pandas-dataframe\n",
    "* get_group : http://pandas.pydata.org/pandas-docs/stable/generated/pandas.core.groupby.GroupBy.get_group.html\n",
    "* group_by : http://pandas.pydata.org/pandas-docs/stable/generated/pandas.DataFrame.groupby.html"
   ]
  },
  {
   "cell_type": "code",
   "execution_count": null,
   "metadata": {
    "collapsed": true
   },
   "outputs": [],
   "source": []
  }
 ],
 "metadata": {
  "kernelspec": {
   "display_name": "Python [Root]",
   "language": "python",
   "name": "Python [Root]"
  },
  "language_info": {
   "codemirror_mode": {
    "name": "ipython",
    "version": 2
   },
   "file_extension": ".py",
   "mimetype": "text/x-python",
   "name": "python",
   "nbconvert_exporter": "python",
   "pygments_lexer": "ipython2",
   "version": "2.7.12"
  }
 },
 "nbformat": 4,
 "nbformat_minor": 0
}
